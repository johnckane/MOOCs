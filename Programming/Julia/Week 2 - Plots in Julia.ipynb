{
 "cells": [
  {
   "cell_type": "code",
   "execution_count": 1,
   "metadata": {
    "collapsed": false
   },
   "outputs": [
    {
     "name": "stdout",
     "output_type": "stream",
     "text": [
      "(-5, 36)\n",
      "(-4, 15)\n",
      "(-3, 0)\n",
      "(-2, -9)\n",
      "(-1, -12)\n",
      "(0, -9)\n",
      "(1, 0)\n",
      "(2, 15)\n",
      "(3, 36)\n",
      "(4, 63)\n",
      "(5, 96)\n"
     ]
    },
    {
     "data": {
      "text/html": [
       "<img src=\"data:image/png;base64,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\" />"
      ]
     },
     "execution_count": 1,
     "metadata": {},
     "output_type": "execute_result"
    },
    {
     "name": "stderr",
     "output_type": "stream",
     "text": [
      "/usr/local/lib/python2.7/dist-packages/matplotlib/font_manager.py:1288: UserWarning: findfont: Font family [u'Helvetica'] not found. Falling back to Bitstream Vera Sans\n",
      "  (prop.get_family(), self.defaultFamily[fontext]))\n"
     ]
    }
   ],
   "source": [
    "# #2 - Find a root of f graphically\n",
    "f(x) = 3 * x^2 + 6 * x - 9\n",
    "for x = -5:5    \n",
    "  println(\"(\",x, \", \", f(x), \")\")\n",
    "end\n",
    "using Plots\n",
    "plot(f, -4, 4) # plot f over [-4,4]\n",
    "plot!(zero, -4, 4)\n"
   ]
  },
  {
   "cell_type": "code",
   "execution_count": 2,
   "metadata": {
    "collapsed": false
   },
   "outputs": [
    {
     "name": "stdout",
     "output_type": "stream",
     "text": [
      "if !Plots.is_installed(\"PyPlot\")\n",
      "    Pkg.add(\"PyPlot\")\n",
      "end\n",
      "withenv(\"PYTHON\" => \"\") do\n",
      "    Pkg.build(\"PyPlot\")\n",
      "end\n",
      "\n",
      "\n"
     ]
    },
    {
     "name": "stderr",
     "output_type": "stream",
     "text": [
      "WARNING: Couldn't initialize pyplot.  (might need to install it?)\n",
      "INFO: To do a standard install of pyplot, copy and run this:\n",
      "\n"
     ]
    },
    {
     "ename": "LoadError",
     "evalue": "LoadError: PyError (:PyImport_ImportModule) <type 'exceptions.ImportError'>\nImportError('No module named matplotlib.colors',)\n\nwhile loading In[2], in expression starting on line 18",
     "output_type": "error",
     "traceback": [
      "LoadError: PyError (:PyImport_ImportModule) <type 'exceptions.ImportError'>\nImportError('No module named matplotlib.colors',)\n\nwhile loading In[2], in expression starting on line 18",
      ""
     ]
    }
   ],
   "source": [
    "#3 Plotting data\n",
    "data = [1.6800483  -1.641695388; \n",
    "        0.501309281 -0.977697538; \n",
    "        1.528012113 0.52771122;\n",
    "        1.70012253 1.711524991; \n",
    "        1.992493625 1.891000015;\n",
    "        2.706075824 -0.463427794;\n",
    "        2.994931927 -0.443566619;\n",
    "        3.491852811 -1.275179133;\n",
    "        3.501191722 -0.690499597;\n",
    "        4.459924502 -5.516130799;\n",
    "        4.936965851 -6.001703074;\n",
    "        5.023289852 -8.36416901;\n",
    "        5.04233698 -7.924477517;\n",
    "        5.50739285 -10.77482371;\n",
    "        5.568665171 -10.9171878]\n",
    "\n",
    "plot(data[:,1], data[:,2], linetype = :scatter, leg = false)\n",
    "# scatter(x, y) # this is an alternative method, but does make a legend\n"
   ]
  },
  {
   "cell_type": "code",
   "execution_count": 9,
   "metadata": {
    "collapsed": false
   },
   "outputs": [
    {
     "data": {
      "text/html": [
       "<script src=\"/home/john/.julia/v0.4/Plots/deps/plotly-latest.min.js\"></script>    <div id=\"b7162c9e-fbb7-4097-a3fb-560554ce09e9\" style=\"width:600px;height:400px;\"></div>\n",
       "    <script>\n",
       "    PLOT = document.getElementById('b7162c9e-fbb7-4097-a3fb-560554ce09e9');\n",
       "    Plotly.plot(PLOT, [{\"yaxis\":\"y\",\"y\":[0.3471185964777479,0.16843375985731446,0.3237045032402084,0.1291162685280447,0.2767867454923072,0.049064713136035554,0.9463695835905828,0.61436067640307,0.8160464424776273,0.24867911261738862,0.8728427086631092,0.2628588625789041,0.5282838183708827,0.7019224828852648,0.42364756904542467,0.42789035433081657,0.05337630606492527,0.6924523581822368,0.8444183743410045,0.06448607095116055],\"showlegend\":true,\"name\":\"y1\",\"type\":\"scatter\",\"xaxis\":\"x\",\"x\":[0.008497681847952965,0.2129721921607146,0.22890218784256366,0.23823240532656698,0.2837776617589618,0.34851733637283755,0.4530201650777861,0.5529440338070399,0.5610168480314548,0.5944533622727322,0.6586271322948909,0.6799353453672048,0.7001175455825437,0.7525049439332157,0.7823357709655883,0.811719818866734,0.8822625588535062,0.8859345238554079,0.9742788993224321,0.9823434990888491],\"mode\":\"markers\",\"marker\":{\"symbol\":\"circle\",\"line\":{\"width\":1,\"color\":\"rgba(0, 0, 0, 1.000)\"},\"size\":12,\"color\":\"rgba(0, 154, 250, 1.000)\"}},{\"yaxis\":\"y\",\"y\":[0.3471185964777479,0.16843375985731446,0.3237045032402084,0.1291162685280447,0.2767867454923072,0.049064713136035554,0.9463695835905828,0.61436067640307,0.8160464424776273,0.24867911261738862,0.8728427086631092,0.2628588625789041,0.5282838183708827,0.7019224828852648,0.42364756904542467,0.42789035433081657,0.05337630606492527,0.6924523581822368,0.8444183743410045,0.06448607095116055],\"showlegend\":true,\"name\":\"y2\",\"type\":\"scatter\",\"xaxis\":\"x\",\"line\":{\"width\":1,\"dash\":\"solid\",\"color\":\"rgba(227, 111, 71, 1.000)\",\"shape\":\"linear\"},\"x\":[0.008497681847952965,0.2129721921607146,0.22890218784256366,0.23823240532656698,0.2837776617589618,0.34851733637283755,0.4530201650777861,0.5529440338070399,0.5610168480314548,0.5944533622727322,0.6586271322948909,0.6799353453672048,0.7001175455825437,0.7525049439332157,0.7823357709655883,0.811719818866734,0.8822625588535062,0.8859345238554079,0.9742788993224321,0.9823434990888491],\"mode\":\"lines\"}], {\"yaxis\":{\"type\":\"-\",\"titlefont\":{\"size\":15,\"color\":\"rgba(0, 0, 0, 1.000)\",\"family\":\"Helvetica\"},\"title\":\"\",\"tickfont\":{\"size\":11,\"color\":\"rgba(0, 0, 0, 1.000)\",\"family\":\"Helvetica\"},\"tickmode\":\"array\",\"showgrid\":true,\"tickvals\":[0.25,0.5,0.75],\"domain\":[0.057305336832895896,0.9415463692038495],\"ticktext\":[\"0.25\",\"0.50\",\"0.75\"],\"zeroline\":false,\"linecolor\":\"rgba(0, 0, 0, 1.000)\",\"tickcolor\":\"rgba(0, 0, 0, 1.000)\",\"anchor\":\"x\"},\"annotations\":[{\"text\":\"A Sample Plot\",\"y\":1.0,\"xref\":\"paper\",\"font\":{\"size\":20,\"color\":\"rgba(0, 0, 0, 1.000)\",\"family\":\"Helvetica\"},\"xanchor\":\"center\",\"x\":0.526246719160105,\"yref\":\"paper\",\"showarrow\":false,\"yanchor\":\"top\",\"rotation\":0.0}],\"width\":600,\"plot_bgcolor\":\"rgba(255, 255, 255, 1.000)\",\"showlegend\":false,\"xaxis\":{\"type\":\"-\",\"titlefont\":{\"size\":15,\"color\":\"rgba(0, 0, 0, 1.000)\",\"family\":\"Helvetica\"},\"title\":\"\",\"tickfont\":{\"size\":11,\"color\":\"rgba(0, 0, 0, 1.000)\",\"family\":\"Helvetica\"},\"tickmode\":\"array\",\"showgrid\":true,\"tickvals\":[0.0,0.5,1.0],\"domain\":[0.05905511811023622,0.9934383202099738],\"ticktext\":[\"0.0\",\"0.5\",\"1.0\"],\"zeroline\":false,\"linecolor\":\"rgba(0, 0, 0, 1.000)\",\"tickcolor\":\"rgba(0, 0, 0, 1.000)\",\"anchor\":\"y\"},\"paper_bgcolor\":\"rgba(255, 255, 255, 1.000)\",\"height\":400,\"margin\":{\"r\":0,\"l\":0,\"b\":0,\"t\":20}});\n",
       "    </script>\n"
      ]
     },
     "execution_count": 9,
     "metadata": {},
     "output_type": "execute_result"
    }
   ],
   "source": [
    "#7 Plot attributes\n",
    "n = 20\n",
    "x = sort(rand(20)); y = rand(20)\n",
    "Plots.scatter(x, y)\n",
    "plot!(x,y,leg=false,title=\"A Sample Plot\")"
   ]
  }
 ],
 "metadata": {
  "kernelspec": {
   "display_name": "Julia 0.5.0",
   "language": "julia",
   "name": "julia-0.5"
  },
  "language_info": {
   "file_extension": ".jl",
   "mimetype": "application/julia",
   "name": "julia",
   "version": "0.5.0"
  }
 },
 "nbformat": 4,
 "nbformat_minor": 1
}
