{
 "cells": [
  {
   "cell_type": "code",
   "execution_count": 2,
   "metadata": {
    "collapsed": false
   },
   "outputs": [],
   "source": [
    "#!/usr/bin/python\n",
    "# -*- coding: utf-8 -*-\n",
    "\n",
    "from collections import namedtuple\n",
    "Item = namedtuple(\"Item\", ['index', 'value', 'weight'])\n",
    "\n",
    "def solve_it(input_data):\n",
    "    # Modify this code to run your optimization algorithm\n",
    "\n",
    "    # parse the input\n",
    "    lines = input_data.split('\\n')\n",
    "\n",
    "    firstLine = lines[0].split()\n",
    "    item_count = int(firstLine[0])\n",
    "    capacity = int(firstLine[1])\n",
    "\n",
    "    items = []\n",
    "\n",
    "    for i in range(1, item_count+1):\n",
    "        line = lines[i]\n",
    "        parts = line.split()\n",
    "        items.append(Item(i-1, int(parts[0]), int(parts[1])))\n",
    "\n",
    "    # a trivial greedy algorithm for filling the knapsack\n",
    "    # it takes items in-order until the knapsack is full\n",
    "    value = 0\n",
    "    weight = 0\n",
    "    taken = [0]*len(items)\n",
    "\n",
    "    for item in items:\n",
    "        if weight + item.weight <= capacity:\n",
    "            taken[item.index] = 1\n",
    "            value += item.value\n",
    "            weight += item.weight\n",
    "    \n",
    "    # prepare the solution in the specified output format\n",
    "    output_data = str(value) + ' ' + str(0) + '\\n'\n",
    "    output_data += ' '.join(map(str, taken))\n",
    "    return output_data\n",
    "\n",
    "\n",
    "# if __name__ == '__main__':\n",
    "#     import sys\n",
    "#     if len(sys.argv) > 1:\n",
    "#         file_location = sys.argv[1].strip()\n",
    "#         with open(file_location, 'r') as input_data_file:\n",
    "#             input_data = input_data_file.read()\n",
    "#         print(solve_it(input_data))\n",
    "#     else:\n",
    "#         print('This test requires an input file.  Please select one from the data directory. (i.e. python solver.py ./data/ks_4_0)')"
   ]
  },
  {
   "cell_type": "code",
   "execution_count": 4,
   "metadata": {
    "collapsed": true
   },
   "outputs": [],
   "source": [
    "f = '/home/john/MOOCs/other/Discrete Optimization/Week 2/knapsack/data/ks_4_0.txt'"
   ]
  },
  {
   "cell_type": "code",
   "execution_count": 3,
   "metadata": {
    "collapsed": false
   },
   "outputs": [],
   "source": [
    "f = open('/home/john/MOOCs/Other/Discrete Optimization/Week 2/knapsack/data/ks_4_0').readlines()"
   ]
  },
  {
   "cell_type": "code",
   "execution_count": 69,
   "metadata": {
    "collapsed": false
   },
   "outputs": [
    {
     "name": "stdout",
     "output_type": "stream",
     "text": [
      "first is, [v w r]\n",
      "[8.0, 4.0, 2.0]\n",
      "capacity is\n",
      "11\n",
      "weight is\n",
      "0\n",
      "capacity is\n",
      "7.0\n",
      "weight is\n",
      "4.0\n",
      "value is\n",
      "8.0\n",
      "selected values are\n",
      "[1, 0, 0, 0]\n"
     ]
    }
   ],
   "source": [
    "# for i in range(0,len(f)):\n",
    "#     print f[i].split()\n",
    "\n",
    "# len(f)\n",
    "\n",
    "num_items = int(f[0].split()[0])\n",
    "capacity  = int(f[0].split()[1])\n",
    "# print capacity\n",
    "items = range(num_items)\n",
    "selected = [0] * num_items \n",
    "# print selected\n",
    "# print items\n",
    "\n",
    "all_lines = list()\n",
    "for i in range(1,len(f)):\n",
    "    all_lines.append([float(f[1].split()[0]),\n",
    "                      float(f[1].split()[1]),\n",
    "                      float(f[1].split()[0])/float(f[1].split()[1])]\n",
    "                    )\n",
    "# print all_lines\n",
    "# print num_items\n",
    "# print capacity\n",
    "# print all_lines\n",
    "\n",
    "# Idea: take the max value of the 2-index of each sub-list\n",
    "max(all_lines[:][2])\n",
    "\n",
    "#all_lines.index(max(all_lines[0:3][2]))\n",
    "# print [i[2] for i in all_lines]\n",
    "# print max([i[2] for i in all_lines])\n",
    "\n",
    "# Want the index of the sublist that has the highest value in the # 2 spot of the sub-list.\n",
    "\n",
    "\n",
    "# index(min([i.index(2.0) for i in all_lines]))\n",
    "all_lines.sort(key= lambda items: items[2], reverse  = True)\n",
    "# print all_lines\n",
    "# now that it's sorted if the first item fits in the bag, take it. \n",
    "# if not, let it go\n",
    "weight = 0\n",
    "value = 0\n",
    "placeholder = 0\n",
    "print 'first is, [v w r]'\n",
    "print all_lines[placeholder]\n",
    "print 'capacity is'\n",
    "print capacity\n",
    "print 'weight is'\n",
    "print weight\n",
    "while capacity > 0 :\n",
    "    if (all_lines[placeholder][1] + weight) <= capacity:\n",
    "        selected[placeholder] = 1\n",
    "        weight += all_lines[placeholder][1]\n",
    "        value += all_lines[placeholder][0]\n",
    "        capacity -= all_lines[placeholder][1]\n",
    "        \n",
    "    placeholder += 1\n",
    "    \n",
    "    if placeholder >= num_items:\n",
    "        break\n",
    "print 'capacity is'\n",
    "print capacity\n",
    "print 'weight is'\n",
    "print weight\n",
    "print 'value is'\n",
    "print value\n",
    "print 'selected values are'\n",
    "print selected\n"
   ]
  }
 ],
 "metadata": {
  "kernelspec": {
   "display_name": "Python 2",
   "language": "python",
   "name": "python2"
  },
  "language_info": {
   "codemirror_mode": {
    "name": "ipython",
    "version": 2
   },
   "file_extension": ".py",
   "mimetype": "text/x-python",
   "name": "python",
   "nbconvert_exporter": "python",
   "pygments_lexer": "ipython2",
   "version": "2.7.12"
  }
 },
 "nbformat": 4,
 "nbformat_minor": 1
}
