{
 "cells": [
  {
   "cell_type": "code",
   "execution_count": 30,
   "metadata": {
    "collapsed": false
   },
   "outputs": [],
   "source": [
    "#!/usr/bin/python\n",
    "# -*- coding: utf-8 -*-\n",
    "\n",
    "from collections import namedtuple\n",
    "Item = namedtuple(\"Item\", ['index', 'value', 'weight'])\n",
    "\n",
    "def solve_it(input_data):\n",
    "    # Modify this code to run your optimization algorithm\n",
    "\n",
    "    # parse the input\n",
    "    lines = input_data.split('\\n') \n",
    "\n",
    "    firstLine = lines[0].split() \n",
    "    num_items = int(firstLine[0]) \n",
    "    capacity = int(firstLine[1]) \n",
    "\n",
    "    items = range(num_items)\n",
    "    selected = [0] * num_items \n",
    "\n",
    "    all_lines = list()\n",
    "    for i in range(1,num_items):\n",
    "        all_lines.append([float(lines[i].split()[0]),\n",
    "                          float(lines[i].split()[1]),\n",
    "                          float(lines[i].split()[0])/float(lines[i].split()[1]),\n",
    "                          i\n",
    "                         ]\n",
    "                        )\n",
    "\n",
    "    weight = 0\n",
    "    value = 0\n",
    "    placeholder = 0\n",
    "\n",
    "    while capacity > 0 :\n",
    "        if (all_lines[placeholder][1] + weight) <= capacity:\n",
    "            selected[all_lines[placeholder][3]] = 1\n",
    "            weight += all_lines[placeholder][1]\n",
    "            value += all_lines[placeholder][0]\n",
    "            capacity -= all_lines[placeholder][1]\n",
    "        \n",
    "        placeholder += 1\n",
    "    \n",
    "        if placeholder >= (num_items - 1):\n",
    "            break\n",
    "       \n",
    "    # prepare the solution in the specified output format\n",
    "    output_data = str(int(value)) + ' ' + str(0) + '\\n'\n",
    "    output_data += ' '.join(map(str, selected))\n",
    "    return output_data\n",
    "\n",
    "\n",
    "# if __name__ == '__main__':\n",
    "#     import sys\n",
    "#     if len(sys.argv) > 1:\n",
    "#         file_location = sys.argv[1].strip()\n",
    "#         with open(file_location, 'r') as input_data_file:\n",
    "#             input_data = input_data_file.read()\n",
    "#         print(solve_it(input_data))\n",
    "#     else:\n",
    "#         print('This test requires an input file.  Please select one from the data directory. (i.e. python solver.py ./data/ks_4_0)')"
   ]
  },
  {
   "cell_type": "code",
   "execution_count": 31,
   "metadata": {
    "collapsed": false
   },
   "outputs": [
    {
     "ename": "ValueError",
     "evalue": "invalid literal for int() with base 10: '/home/john/MOOCs/Other/Discrete'",
     "output_type": "error",
     "traceback": [
      "\u001b[0;31m---------------------------------------------------------------------------\u001b[0m",
      "\u001b[0;31mValueError\u001b[0m                                Traceback (most recent call last)",
      "\u001b[0;32m<ipython-input-31-68b8d6277689>\u001b[0m in \u001b[0;36m<module>\u001b[0;34m()\u001b[0m\n\u001b[0;32m----> 1\u001b[0;31m \u001b[0msolve_it\u001b[0m\u001b[0;34m(\u001b[0m\u001b[0;34m'/home/john/MOOCs/Other/Discrete Optimization/Week 2/knapsack/data/ks_106_0'\u001b[0m\u001b[0;34m)\u001b[0m\u001b[0;34m\u001b[0m\u001b[0m\n\u001b[0m",
      "\u001b[0;32m<ipython-input-30-d5ef4aaf72f7>\u001b[0m in \u001b[0;36msolve_it\u001b[0;34m(input_data)\u001b[0m\n\u001b[1;32m     12\u001b[0m \u001b[0;34m\u001b[0m\u001b[0m\n\u001b[1;32m     13\u001b[0m     \u001b[0mfirstLine\u001b[0m \u001b[0;34m=\u001b[0m \u001b[0mlines\u001b[0m\u001b[0;34m[\u001b[0m\u001b[0;36m0\u001b[0m\u001b[0;34m]\u001b[0m\u001b[0;34m.\u001b[0m\u001b[0msplit\u001b[0m\u001b[0;34m(\u001b[0m\u001b[0;34m)\u001b[0m\u001b[0;34m\u001b[0m\u001b[0m\n\u001b[0;32m---> 14\u001b[0;31m     \u001b[0mnum_items\u001b[0m \u001b[0;34m=\u001b[0m \u001b[0mint\u001b[0m\u001b[0;34m(\u001b[0m\u001b[0mfirstLine\u001b[0m\u001b[0;34m[\u001b[0m\u001b[0;36m0\u001b[0m\u001b[0;34m]\u001b[0m\u001b[0;34m)\u001b[0m\u001b[0;34m\u001b[0m\u001b[0m\n\u001b[0m\u001b[1;32m     15\u001b[0m     \u001b[0mcapacity\u001b[0m \u001b[0;34m=\u001b[0m \u001b[0mint\u001b[0m\u001b[0;34m(\u001b[0m\u001b[0mfirstLine\u001b[0m\u001b[0;34m[\u001b[0m\u001b[0;36m1\u001b[0m\u001b[0;34m]\u001b[0m\u001b[0;34m)\u001b[0m\u001b[0;34m\u001b[0m\u001b[0m\n\u001b[1;32m     16\u001b[0m \u001b[0;34m\u001b[0m\u001b[0m\n",
      "\u001b[0;31mValueError\u001b[0m: invalid literal for int() with base 10: '/home/john/MOOCs/Other/Discrete'"
     ]
    }
   ],
   "source": [
    "solve_it('/home/john/MOOCs/Other/Discrete Optimization/Week 2/knapsack/data/ks_106_0')"
   ]
  },
  {
   "cell_type": "code",
   "execution_count": null,
   "metadata": {
    "collapsed": true
   },
   "outputs": [],
   "source": []
  },
  {
   "cell_type": "code",
   "execution_count": 35,
   "metadata": {
    "collapsed": false
   },
   "outputs": [],
   "source": [
    "lines = open('/home/john/MOOCs/Other/Discrete Optimization/Week 2/knapsack/data/ks_106_0').readlines()"
   ]
  },
  {
   "cell_type": "code",
   "execution_count": 36,
   "metadata": {
    "collapsed": false
   },
   "outputs": [
    {
     "name": "stdout",
     "output_type": "stream",
     "text": [
      "[[45276.0, 45276.0, 1.0, 1], [90552.0, 90552.0, 1.0, 2], [181104.0, 181104.0, 1.0, 3], [362208.0, 362208.0, 1.0, 4], [724416.0, 724416.0, 1.0, 5], [1448832.0, 1448832.0, 1.0, 6], [2897664.0, 2897664.0, 1.0, 7], [5795328.0, 5795328.0, 1.0, 8], [11590656.0, 11590656.0, 1.0, 9], [23181312.0, 23181312.0, 1.0, 10], [46362624.0, 46362624.0, 1.0, 11], [92725248.0, 92725248.0, 1.0, 12], [70778.0, 70778.0, 1.0, 13], [141556.0, 141556.0, 1.0, 14], [283112.0, 283112.0, 1.0, 15], [566224.0, 566224.0, 1.0, 16], [1132448.0, 1132448.0, 1.0, 17], [2264896.0, 2264896.0, 1.0, 18], [4529792.0, 4529792.0, 1.0, 19], [9059584.0, 9059584.0, 1.0, 20], [18119168.0, 18119168.0, 1.0, 21], [36238336.0, 36238336.0, 1.0, 22], [72476672.0, 72476672.0, 1.0, 23], [86911.0, 86911.0, 1.0, 24], [173822.0, 173822.0, 1.0, 25], [347644.0, 347644.0, 1.0, 26], [695288.0, 695288.0, 1.0, 27], [1390576.0, 1390576.0, 1.0, 28], [2781152.0, 2781152.0, 1.0, 29], [5562304.0, 5562304.0, 1.0, 30], [11124608.0, 11124608.0, 1.0, 31], [22249216.0, 22249216.0, 1.0, 32], [44498432.0, 44498432.0, 1.0, 33], [88996864.0, 88996864.0, 1.0, 34], [92634.0, 92634.0, 1.0, 35], [185268.0, 185268.0, 1.0, 36], [370536.0, 370536.0, 1.0, 37], [741072.0, 741072.0, 1.0, 38], [1482144.0, 1482144.0, 1.0, 39], [2964288.0, 2964288.0, 1.0, 40], [5928576.0, 5928576.0, 1.0, 41], [11857152.0, 11857152.0, 1.0, 42], [23714304.0, 23714304.0, 1.0, 43], [47428608.0, 47428608.0, 1.0, 44], [94857216.0, 94857216.0, 1.0, 45], [97839.0, 97839.0, 1.0, 46], [195678.0, 195678.0, 1.0, 47], [391356.0, 391356.0, 1.0, 48], [782712.0, 782712.0, 1.0, 49], [1565424.0, 1565424.0, 1.0, 50], [3130848.0, 3130848.0, 1.0, 51], [6261696.0, 6261696.0, 1.0, 52], [12523392.0, 12523392.0, 1.0, 53], [25046784.0, 25046784.0, 1.0, 54], [50093568.0, 50093568.0, 1.0, 55], [100187136.0, 100187136.0, 1.0, 56], [125941.0, 125941.0, 1.0, 57], [251882.0, 251882.0, 1.0, 58], [503764.0, 503764.0, 1.0, 59], [1007528.0, 1007528.0, 1.0, 60], [2015056.0, 2015056.0, 1.0, 61], [4030112.0, 4030112.0, 1.0, 62], [8060224.0, 8060224.0, 1.0, 63], [16120448.0, 16120448.0, 1.0, 64], [32240896.0, 32240896.0, 1.0, 65], [64481792.0, 64481792.0, 1.0, 66], [134269.0, 134269.0, 1.0, 67], [268538.0, 268538.0, 1.0, 68], [537076.0, 537076.0, 1.0, 69], [1074152.0, 1074152.0, 1.0, 70], [2148304.0, 2148304.0, 1.0, 71], [4296608.0, 4296608.0, 1.0, 72], [8593216.0, 8593216.0, 1.0, 73], [17186432.0, 17186432.0, 1.0, 74], [34372864.0, 34372864.0, 1.0, 75], [68745728.0, 68745728.0, 1.0, 76], [141033.0, 141033.0, 1.0, 77], [282066.0, 282066.0, 1.0, 78], [564132.0, 564132.0, 1.0, 79], [1128264.0, 1128264.0, 1.0, 80], [2256528.0, 2256528.0, 1.0, 81], [4513056.0, 4513056.0, 1.0, 82], [9026112.0, 9026112.0, 1.0, 83], [18052224.0, 18052224.0, 1.0, 84], [36104448.0, 36104448.0, 1.0, 85], [72208896.0, 72208896.0, 1.0, 86], [147279.0, 147279.0, 1.0, 87], [294558.0, 294558.0, 1.0, 88], [589116.0, 589116.0, 1.0, 89], [1178232.0, 1178232.0, 1.0, 90], [2356464.0, 2356464.0, 1.0, 91], [4712928.0, 4712928.0, 1.0, 92], [9425856.0, 9425856.0, 1.0, 93], [18851712.0, 18851712.0, 1.0, 94], [37703424.0, 37703424.0, 1.0, 95], [75406848.0, 75406848.0, 1.0, 96], [153525.0, 153525.0, 1.0, 97], [307050.0, 307050.0, 1.0, 98], [614100.0, 614100.0, 1.0, 99], [1228200.0, 1228200.0, 1.0, 100], [2456400.0, 2456400.0, 1.0, 101], [4912800.0, 4912800.0, 1.0, 102], [9825600.0, 9825600.0, 1.0, 103], [19651200.0, 19651200.0, 1.0, 104], [39302400.0, 39302400.0, 1.0, 105]]\n",
      "55306154.0 1\n",
      "0 1 1 1 1 1 1 1 1 1 1 0 0 1 1 1 1 1 1 1 0 0 0 0 0 0 0 0 0 0 0 0 0 0 0 0 0 0 0 0 0 0 0 0 0 0 0 0 0 0 0 0 0 0 0 0 0 0 0 0 0 0 0 0 0 0 0 0 0 0 0 0 0 0 0 0 0 0 0 0 0 0 0 0 0 0 0 0 0 0 0 0 0 0 0 0 0 0 0 0 0 0 0 0 0 0\n"
     ]
    }
   ],
   "source": [
    "# for i in range(0,len(f)):\n",
    "#     print f[i].split()\n",
    "\n",
    "# len(f)\n",
    "\n",
    "num_items = int(f[0].split()[0])\n",
    "capacity  = int(f[0].split()[1])\n",
    "# print capacity\n",
    "items = range(num_items)\n",
    "selected = [0] * num_items \n",
    "# print selected\n",
    "# print items\n",
    "all_lines = list()\n",
    "    for i in range(1,num_items):\n",
    "        all_lines.append([float(lines[i].split()[0]),\n",
    "                          float(lines[i].split()[1]),\n",
    "                          float(lines[i].split()[0])/float(lines[i].split()[1]),\n",
    "                          i\n",
    "                         ]\n",
    "                        )\n",
    "\n",
    "    weight = 0\n",
    "    value = 0\n",
    "    placeholder = 0\n",
    "\n",
    "    while capacity > 0 :\n",
    "        if (all_lines[placeholder][1] + weight) <= capacity:\n",
    "            selected[all_lines[placeholder][3]] = 1\n",
    "            weight += all_lines[placeholder][1]\n",
    "            value += all_lines[placeholder][0]\n",
    "            capacity -= all_lines[placeholder][1]\n",
    "        \n",
    "        placeholder += 1\n",
    "    \n",
    "        if placeholder >= (num_items - 1):\n",
    "            break\n",
    "       \n",
    "all_lines = list()\n",
    "for i in range(1,len(f)):\n",
    "    all_lines.append([float(f[i].split()[0]),\n",
    "                      float(f[i].split()[1]),\n",
    "                      float(f[i].split()[0])/float(f[i].split()[1]),\n",
    "                      i\n",
    "                     ]\n",
    "                    )\n",
    "# print all_lines\n",
    "# print num_items\n",
    "# print capacity\n",
    "# print all_lines\n",
    "\n",
    "# index(min([i.index(2.0) for i in all_lines]))\n",
    "all_lines.sort(key= lambda items: items[2], reverse  = True)\n",
    "# print all_lines\n",
    "# now that it's sorted if the first item fits in the bag, take it. \n",
    "# if not, let it go\n",
    "weight = 0\n",
    "value = 0\n",
    "placeholder = 0\n",
    "# print 'first is, [v w r]'\n",
    "# print all_lines[placeholder]\n",
    "# print 'capacity is'\n",
    "# print capacity\n",
    "# print 'weight is'\n",
    "# print weight\n",
    "\n",
    "while capacity > 0 :\n",
    "    if (all_lines[placeholder][1] + weight) <= capacity:\n",
    "        selected[all_lines[placeholder][3]] = 1\n",
    "        weight += all_lines[placeholder][1]\n",
    "        value += all_lines[placeholder][0]\n",
    "        capacity -= all_lines[placeholder][1]\n",
    "        \n",
    "    placeholder += 1\n",
    "    \n",
    "    if placeholder >= (num_items - 1):\n",
    "        break\n",
    "\n",
    "        \n",
    "# print 'capacity is'\n",
    "# print capacity\n",
    "# print 'weight is'\n",
    "# print weight\n",
    "# print 'value is'\n",
    "# print value\n",
    "# print 'selected values are'\n",
    "# print selected\n",
    "\n",
    "print str(value) + str(' 1')\n",
    "\n",
    "print ' '.join(map(str, selected))\n"
   ]
  },
  {
   "cell_type": "code",
   "execution_count": null,
   "metadata": {
    "collapsed": true
   },
   "outputs": [],
   "source": [
    "def evalone():\n",
    "    "
   ]
  }
 ],
 "metadata": {
  "kernelspec": {
   "display_name": "Python 2",
   "language": "python",
   "name": "python2"
  },
  "language_info": {
   "codemirror_mode": {
    "name": "ipython",
    "version": 2
   },
   "file_extension": ".py",
   "mimetype": "text/x-python",
   "name": "python",
   "nbconvert_exporter": "python",
   "pygments_lexer": "ipython2",
   "version": "2.7.12"
  }
 },
 "nbformat": 4,
 "nbformat_minor": 1
}
