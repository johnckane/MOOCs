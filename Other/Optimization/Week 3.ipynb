{
 "cells": [
  {
   "cell_type": "code",
   "execution_count": 9,
   "metadata": {
    "collapsed": false
   },
   "outputs": [
    {
     "name": "stdout",
     "output_type": "stream",
     "text": [
      "variable values: x: 1 dimensions:\n",
      "[x11] = 0.5\n",
      "[x12] = 0.0\n",
      "[x13] = 0.5\n",
      "[x21] = 0.5\n",
      "[x22] = 0.5\n",
      "[x23] = 0.0\n",
      "[x31] = 0.0\n",
      "[x32] = 0.5\n",
      "[x33] = 0.5\n",
      "\n",
      "Objective value: 10.0\n"
     ]
    }
   ],
   "source": [
    "# Problem 2 \n",
    "using JuMP\n",
    "m = Model()\n",
    "S = [\"x11\",\"x12\",\"x13\",\"x21\",\"x22\",\"x23\",\"x31\",\"x32\",\"x33\"]\n",
    "\n",
    "# Part D, F\n",
    "#@variable(m, x[S], Bin)\n",
    "# Part D II, F II\n",
    "@variable(m, x[S] >= 0)\n",
    "\n",
    "\n",
    "\n",
    "#Constraints: match each man with only one woman\n",
    "@constraint(m, 1x[\"x11\"] + 1x[\"x12\"] + 1x[\"x13\"] == 1)\n",
    "@constraint(m, 1x[\"x21\"] + 1x[\"x22\"] + 1x[\"x23\"] == 1)\n",
    "@constraint(m, 1x[\"x31\"] + 1x[\"x32\"] + 1x[\"x33\"] == 1)\n",
    "#Constraints: match each woman with only one man\n",
    "@constraint(m, 1x[\"x11\"] + 1x[\"x21\"] + 1x[\"x31\"] == 1)\n",
    "@constraint(m, 1x[\"x12\"] + 1x[\"x22\"] + 1x[\"x32\"] == 1)\n",
    "@constraint(m, 1x[\"x13\"] + 1x[\"x23\"] + 1x[\"x33\"] == 1)\n",
    "# These constraints added in part E\n",
    "@constraint(m, 1x[\"x13\"] <= 1x[\"x22\"])\n",
    "@constraint(m, 1x[\"x33\"] <= 1x[\"x22\"])\n",
    "\n",
    "#Objective function\n",
    "@objective(m, Max, 1x[\"x11\"] + 3x[\"x12\"] + 5x[\"x13\"] + 4x[\"x21\"] + 2x[\"x22\"] + 2x[\"x23\"] + 1x[\"x31\"] + 5x[\"x32\"] +\n",
    "3x[\"x33\"])\n",
    "#Solve the optimization problem\n",
    "solve(m)\n",
    "#Determine hours by each machine\n",
    "println(\"variable values: \", getvalue(x))\n",
    "#Determine max snow removal\n",
    "println(\"Objective value: \", getobjectivevalue(m))"
   ]
  }
 ],
 "metadata": {
  "kernelspec": {
   "display_name": "Julia 0.4.5",
   "language": "julia",
   "name": "julia-0.4"
  },
  "language_info": {
   "file_extension": ".jl",
   "mimetype": "application/julia",
   "name": "julia",
   "version": "0.4.5"
  }
 },
 "nbformat": 4,
 "nbformat_minor": 1
}
