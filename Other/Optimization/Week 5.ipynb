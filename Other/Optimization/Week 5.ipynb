{
 "cells": [
  {
   "cell_type": "code",
   "execution_count": 2,
   "metadata": {
    "collapsed": false
   },
   "outputs": [
    {
     "name": "stdout",
     "output_type": "stream",
     "text": [
      "649.0\n",
      "[0.0,2.0,-0.0,0.0,5.0]\n"
     ]
    }
   ],
   "source": [
    "# Week 5, Problem 2\n",
    "# Part B\n",
    "using JuMP\n",
    "\n",
    "m = Model()\n",
    "\n",
    "@variable(m, x[1:5] >= 0)\n",
    "\n",
    "@constraint(m, 10x[1] + 15x[2] + 10x[3] + 10x[4] + 20x[5] <= 130)\n",
    "@constraint(m, 1x[1] + 2x[2] + 2x[3] + 1x[4] + 1x[5] <= 13)\n",
    "@constraint(m, 3x[1] + 1x[2] + 6x[3] + 6x[4] + 3x[5] <= 45)\n",
    "@constraint(m, 2x[1] + 4x[2] + 2x[3] + 5x[4] + 3x[5] <= 23)\n",
    "@constraint(m, x[3] - x[4] == 0)\n",
    "\n",
    "@objective(m, Max, 51x[1] + 102x[2] + 66x[3] + 66x[4] + 89x[5])\n",
    "\n",
    "solve(m)\n",
    "\n",
    "println(getobjectivevalue(m))\n",
    "println(getvalue(x))"
   ]
  },
  {
   "cell_type": "code",
   "execution_count": 6,
   "metadata": {
    "collapsed": false
   },
   "outputs": [
    {
     "name": "stdout",
     "output_type": "stream",
     "text": [
      "663.2857142857143\n",
      "[0.0,1.1428571428571423,-0.0,0.0,6.142857142857143]\n"
     ]
    }
   ],
   "source": [
    "# Week 5, Problem 2\n",
    "# Part C\n",
    "using JuMP\n",
    "\n",
    "m = Model()\n",
    "\n",
    "@variable(m, x[1:5] >= 0)\n",
    "\n",
    "@constraint(m, 10x[1] + 15x[2] + 10x[3] + 10x[4] + 20x[5] <= 140)\n",
    "@constraint(m, 1x[1] + 2x[2] + 2x[3] + 1x[4] + 1x[5] <= 13)\n",
    "@constraint(m, 3x[1] + 1x[2] + 6x[3] + 6x[4] + 3x[5] <= 45)\n",
    "@constraint(m, 2x[1] + 4x[2] + 2x[3] + 5x[4] + 3x[5] <= 23)\n",
    "@constraint(m, x[3] - x[4] == 0)\n",
    "\n",
    "@objective(m, Max, 51x[1] + 102x[2] + 66x[3] + 66x[4] + 89x[5])\n",
    "\n",
    "solve(m)\n",
    "\n",
    "println(getobjectivevalue(m))\n",
    "println(getvalue(x))\n",
    "\n",
    "# So the profit goes up from 649 to 663.29, a gain of 14.29, at a cost of $11, so a net gain. "
   ]
  },
  {
   "cell_type": "code",
   "execution_count": 3,
   "metadata": {
    "collapsed": false
   },
   "outputs": [
    {
     "name": "stdout",
     "output_type": "stream",
     "text": [
      "637.8888888888889\n",
      "[0.0,2.6666666666666665,-0.0,0.0,4.111111111111112]\n"
     ]
    }
   ],
   "source": [
    "# Week 5, Problem 2\n",
    "# Part D\n",
    "using JuMP\n",
    "\n",
    "m = Model()\n",
    "\n",
    "@variable(m, x[1:5] >= 0)\n",
    "\n",
    "@constraint(m, 10x[1] + 15x[2] + 10x[3] + 10x[4] + 20x[5] <= 130)\n",
    "@constraint(m, 1x[1] + 2x[2] + 2x[3] + 1x[4] + 1x[5] <= 13)\n",
    "@constraint(m, 3x[1] + 1x[2] + 6x[3] + 6x[4] + 3x[5] <= 15)\n",
    "@constraint(m, 2x[1] + 4x[2] + 2x[3] + 5x[4] + 3x[5] <= 23)\n",
    "@constraint(m, x[3] - x[4] == 0)\n",
    "\n",
    "@objective(m, Max, 51x[1] + 102x[2] + 66x[3] + 66x[4] + 89x[5])\n",
    "\n",
    "solve(m)\n",
    "\n",
    "println(getobjectivevalue(m))\n",
    "println(getvalue(x))"
   ]
  },
  {
   "cell_type": "code",
   "execution_count": 5,
   "metadata": {
    "collapsed": false
   },
   "outputs": [
    {
     "name": "stdout",
     "output_type": "stream",
     "text": [
      "689.0\n",
      "[0.0,1.0000000000000009,3.499999999999999,0.0,3.999999999999999]\n"
     ]
    }
   ],
   "source": [
    "# Week 5, Problem 2\n",
    "# Part E\n",
    "using JuMP\n",
    "\n",
    "m = Model()\n",
    "\n",
    "@variable(m, x[1:5] >= 0)\n",
    "\n",
    "@constraint(m, 10x[1] + 15x[2] + 10x[3] + 10x[4] + 20x[5] <= 130)\n",
    "@constraint(m, 1x[1] + 2x[2] + 2x[3] + 1x[4] + 1x[5] <= 13)\n",
    "@constraint(m, 3x[1] + 1x[2] + 6x[3] + 6x[4] + 3x[5] <= 45)\n",
    "@constraint(m, 2x[1] + 4x[2] + 2x[3] + 5x[4] + 3x[5] <= 23)\n",
    "@constraint(m, x[3] - x[4] >= 0)\n",
    "\n",
    "@objective(m, Max, 51x[1] + 102x[2] + 66x[3] + 66x[4] + 89x[5])\n",
    "\n",
    "solve(m)\n",
    "\n",
    "println(getobjectivevalue(m))\n",
    "println(getvalue(x))"
   ]
  },
  {
   "cell_type": "code",
   "execution_count": 9,
   "metadata": {
    "collapsed": false
   },
   "outputs": [
    {
     "name": "stdout",
     "output_type": "stream",
     "text": [
      "6980.0\n",
      "[10.0,15.0,3.333333333333332,0.0,1.6666666666666679]\n"
     ]
    }
   ],
   "source": [
    "# Week 5, Problem 3\n",
    "# Part A\n",
    "using JuMP\n",
    "m3 = Model()\n",
    "\n",
    "@variable(m3, x[1:5] >= 0)\n",
    "\n",
    "@constraint(m3, 2x[2] + 3x[3] <= 40)\n",
    "@constraint(m3, 2x[4] + 3x[5] <= 35)\n",
    "@constraint(m3, 3x[1] + 1x[2] + 3x[3] + 1x[4] + 3x[5] <= 60)\n",
    "@constraint(m3, 3x[1] + 6x[2] + 2x[3] + 6x[4] + 2x[5] <= 200)\n",
    "@constraint(m3, 5x[1] + 4x[2] + 4x[4] <= 160)\n",
    "@constraint(m3, x[1] >= 10)\n",
    "@constraint(m3, x[2] + x[4] >= 10)\n",
    "@constraint(m3, x[3] + x[5] >= 5)\n",
    "\n",
    "@objective(m3, Max, 200x[1] + 300x[2] + 100x[3] + 292x[4] + 88x[5])\n",
    "\n",
    "solve(m3)\n",
    "\n",
    "println(getobjectivevalue(m3))\n",
    "println(getvalue(x))"
   ]
  },
  {
   "cell_type": "code",
   "execution_count": 37,
   "metadata": {
    "collapsed": false
   },
   "outputs": [
    {
     "name": "stdout",
     "output_type": "stream",
     "text": [
      "6980.0\n",
      "[10.0,15.0,3.333333333333332,0.0,1.6666666666666679,0.0]\n"
     ]
    }
   ],
   "source": [
    "# Week 5, Problem 3\n",
    "# Part D\n",
    "using JuMP\n",
    "m3 = Model()\n",
    "\n",
    "# This problem is adding a new product offering, changing the constraints.\n",
    "# We have a value of 0 typesetting, regular and overtime, x1, x2 are 0\n",
    "# We have 2 camera, 2 pressroom, 1 bindery\n",
    "\n",
    "@variable(m3, x[1:6] >= 0)\n",
    "\n",
    "@constraint(m3, 2x[2] + 3x[3] <= 40) #this is the typesetting constraints, regular\n",
    "@constraint(m3, 2x[4] + 3x[5] <= 35) # this is the typesetting constraints, overtime\n",
    "@constraint(m3, 3x[1] + 1x[2] + 3x[3] + 1x[4] + 3x[5] + 2x[6] <= 60) # this is the camera\n",
    "@constraint(m3, 3x[1] + 6x[2] + 2x[3] + 6x[4] + 2x[5] + 2x[6] <= 200) # this is the pressroom\n",
    "@constraint(m3, 5x[1] + 4x[2] + 4x[4] + 1x[6] <= 160) # this is the bindery\n",
    "@constraint(m3, x[1] >= 10)\n",
    "@constraint(m3, x[2] + x[4] >= 10)\n",
    "@constraint(m3, x[3] + x[5] >= 5)\n",
    "#no constraint for class d (x[6]) other than non-negative\n",
    "\n",
    "# Play around with values for x[6] to see lowest possible to garner a profit of > 6980\n",
    "@objective(m3, Max, 200x[1] + 300x[2] + 100x[3] + 292x[4] + 88x[5] + 584x[6])\n",
    "\n",
    "solve(m3)\n",
    "\n",
    "println(getobjectivevalue(m3))\n",
    "println(getvalue(x))"
   ]
  },
  {
   "cell_type": "code",
   "execution_count": 13,
   "metadata": {
    "collapsed": false
   },
   "outputs": [
    {
     "name": "stdout",
     "output_type": "stream",
     "text": [
      "[6.428571428571428,4.285714285714286,0.0]\n",
      "51.42857142857142\n",
      "[6.106226635438361e-16,3.3306690738754696e-16,-1.1428571428571423]\n",
      "[6.428571428571425,4.285714285714288,0.0]\n",
      "51.42857142857142\n",
      "[1.0547118733938987e-15,-3.3306690738754696e-16,-0.8571428571428567]\n"
     ]
    }
   ],
   "source": [
    "# Week 5, Problem 4\n",
    "using JuMP\n",
    "\n",
    "m1 = Model()\n",
    "\n",
    "@variable(m1, x1[1:3] >= 0)\n",
    "\n",
    "@constraint(m1, 12x1[1] + 10x1[2] + 16x1[3] <= 120)\n",
    "@constraint(m1, 10x1[1] + 20x1[2] + 30x1[3] <= 150)\n",
    "@constraint(m1, x1[1] <= 8)\n",
    "\n",
    "@objective(m1, Max, 5x1[1] + 4.5x1[2] + 6x1[3])\n",
    "solve(m1)\n",
    "println(getvalue(x1))\n",
    "println(getobjectivevalue(m1))\n",
    "# This gets the sensitivities? \n",
    "println(getdual(x1))\n",
    "\n",
    "m2 = Model()\n",
    "\n",
    "@variable(m2, x2[1:3] >= 0)\n",
    "\n",
    "@constraint(m2, 12x2[1] + 10x2[2] + 16x2[3] == 120)\n",
    "@constraint(m2, 16x2[1] + 25x2[2] + 28x2[3] == 210)\n",
    "@constraint(m2, x2[1] <= 8)\n",
    "\n",
    "@objective(m2, Max, 5x2[1] + 4.5x2[2] + 6x2[3])\n",
    "solve(m2)\n",
    "println(getvalue(x2))\n",
    "println(getobjectivevalue(m2))\n",
    "println(getdual(x2))"
   ]
  }
 ],
 "metadata": {
  "kernelspec": {
   "display_name": "Julia 0.4.5",
   "language": "julia",
   "name": "julia-0.4"
  },
  "language_info": {
   "file_extension": ".jl",
   "mimetype": "application/julia",
   "name": "julia",
   "version": "0.4.5"
  }
 },
 "nbformat": 4,
 "nbformat_minor": 1
}
