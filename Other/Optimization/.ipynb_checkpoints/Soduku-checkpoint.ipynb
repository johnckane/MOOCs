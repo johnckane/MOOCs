{
 "cells": [
  {
   "cell_type": "markdown",
   "metadata": {},
   "source": [
    "The objective of this notebook is to compare my (incorrect) solution to the one provided by the course. "
   ]
  },
  {
   "cell_type": "markdown",
   "metadata": {},
   "source": [
    "### Initialize the variables"
   ]
  },
  {
   "cell_type": "code",
   "execution_count": null,
   "metadata": {
    "collapsed": true
   },
   "outputs": [],
   "source": [
    "# My way:\n",
    "m = Model()\n",
    "@variable(m, x[1:9,1:9,1:9], Bin)"
   ]
  },
  {
   "cell_type": "code",
   "execution_count": null,
   "metadata": {
    "collapsed": true
   },
   "outputs": [],
   "source": [
    "# Their way:\n",
    "sudoku = Model()\n",
    "@defVar(sudoku, x[i=1:9, j=1:9, k=1:9], Bin)"
   ]
  },
  {
   "cell_type": "markdown",
   "metadata": {},
   "source": [
    "### Load the data. "
   ]
  },
  {
   "cell_type": "markdown",
   "metadata": {},
   "source": [
    "I took the inital conditions of the soduku problem and loaded them as constraints."
   ]
  },
  {
   "cell_type": "code",
   "execution_count": 2,
   "metadata": {
    "collapsed": false
   },
   "outputs": [],
   "source": [
    "using JuMP\n",
    "m = Model()\n",
    "\n",
    "@variable(m, x[1:9,1:9,1:9], Bin)\n",
    "\n",
    "# Need to set some initial conditions, do so in a constraint\n",
    "# Referred to as C1 in the exercise\n",
    "@constraint(m, x[1,1,5] == 1)\n",
    "@constraint(m, x[2,1,6] == 1)\n",
    "@constraint(m, x[4,1,8] == 1)\n",
    "@constraint(m, x[5,1,4] == 1)\n",
    "@constraint(m, x[6,1,7] == 1)\n",
    "@constraint(m, x[1,2,3] == 1)\n",
    "@constraint(m, x[3,2,9] == 1)\n",
    "@constraint(m, x[7,2,6] == 1)\n",
    "@constraint(m, x[3,3,8] == 1)\n",
    "@constraint(m, x[2,4,1] == 1)\n",
    "@constraint(m, x[5,4,8] == 1)\n",
    "@constraint(m, x[8,4,4] == 1)\n",
    "@constraint(m, x[1,5,7] == 1)\n",
    "@constraint(m, x[2,5,9] == 1)\n",
    "@constraint(m, x[4,5,6] == 1)\n",
    "@constraint(m, x[6,5,2] == 1)\n",
    "@constraint(m, x[8,5,1] == 1)\n",
    "@constraint(m, x[9,5,8] == 1)\n",
    "@constraint(m, x[2,6,5] == 1)\n",
    "@constraint(m, x[5,6,3] == 1)\n",
    "@constraint(m, x[8,6,9] == 1)\n",
    "@constraint(m, x[7,7,2] == 1)\n",
    "@constraint(m, x[3,8,6] == 1)\n",
    "@constraint(m, x[7,8,8] == 1)\n",
    "@constraint(m, x[9,8,7] == 1)\n",
    "@constraint(m, x[4,9,3] == 1)\n",
    "@constraint(m, x[5,9,1] == 1)\n",
    "@constraint(m, x[6,9,6] == 1)\n",
    "@constraint(m, x[8,9,5] == 1)\n",
    "@constraint(m, x[9,9,9] == 1); # the semicolon supresses printing"
   ]
  },
  {
   "cell_type": "markdown",
   "metadata": {},
   "source": [
    "Here's how the course solution provided the data"
   ]
  },
  {
   "cell_type": "code",
   "execution_count": null,
   "metadata": {
    "collapsed": true
   },
   "outputs": [],
   "source": [
    "init_sol = [5 3 0 0 7 0 0 0 0;\n",
    "            6 0 0 1 9 5 0 0 0;\n",
    "            0 9 8 0 0 0 0 6 0;\n",
    "            8 0 0 0 6 0 0 0 3;\n",
    "            4 0 0 8 0 3 0 0 1;\n",
    "            7 0 0 0 2 0 0 0 6;\n",
    "            0 6 0 0 0 0 2 8 0;\n",
    "            0 0 0 4 1 9 0 0 5;\n",
    "            0 0 0 0 8 0 0 7 9]"
   ]
  },
  {
   "cell_type": "markdown",
   "metadata": {},
   "source": [
    "## Constraints\n",
    "\n",
    "### First up: Every digit must appear in every row\n",
    "### Every digit must appear in every column"
   ]
  },
  {
   "cell_type": "code",
   "execution_count": null,
   "metadata": {
    "collapsed": true
   },
   "outputs": [],
   "source": [
    "# My way:\n",
    "# Row\n",
    "for j in 1:9\n",
    "    for k in 1:9\n",
    "        @constraint(m, sum{x[i,j,k], i in 1:9} == 1)\n",
    "    end\n",
    "end\n",
    "# Column\n",
    "for i in 1:9\n",
    "    for k in 1:9\n",
    "        @constraint(m, sum{x[i,j,k], j in 1:9} == 1)\n",
    "    end\n",
    "end"
   ]
  },
  {
   "cell_type": "code",
   "execution_count": null,
   "metadata": {
    "collapsed": true
   },
   "outputs": [],
   "source": [
    "# Their way:\n",
    "for ind = 1:9 # Each row, OR each column\n",
    "for k = 1:9 # Each digit\n",
    "# Sum across columns (j) - row constraint\n",
    "@addConstraint(sudoku, sum{x[ind,j,k],j=1:9} == 1)\n",
    "# Sum across rows (i) - column constraint\n",
    "@addConstraint(sudoku, sum{x[i,ind,k],i=1:9} == 1)\n",
    "end\n",
    "end"
   ]
  },
  {
   "cell_type": "markdown",
   "metadata": {},
   "source": [
    "### Each number 1 - 9 must appear in 3 x 3 cells."
   ]
  },
  {
   "cell_type": "code",
   "execution_count": null,
   "metadata": {
    "collapsed": true
   },
   "outputs": [],
   "source": [
    "# My solution:\n",
    "for a in 0:2\n",
    "    for b in 0:2\n",
    "        @constraint(m, sum{x[3*a + 1, 3*b + 1, k], k in 1:9} == 1)\n",
    "        @constraint(m, sum{x[3*a + 1, 3*b + 2, k], k in 1:9} == 1)\n",
    "        @constraint(m, sum{x[3*a + 1, 3*b + 3, k], k in 1:9} == 1)\n",
    "        @constraint(m, sum{x[3*a + 2, 3*b + 1, k], k in 1:9} == 1)\n",
    "        @constraint(m, sum{x[3*a + 2, 3*b + 2, k], k in 1:9} == 1)\n",
    "        @constraint(m, sum{x[3*a + 2, 3*b + 3, k], k in 1:9} == 1)\n",
    "        @constraint(m, sum{x[3*a + 3, 3*b + 1, k], k in 1:9} == 1)\n",
    "        @constraint(m, sum{x[3*a + 3, 3*b + 2, k], k in 1:9} == 1)\n",
    "        @constraint(m, sum{x[3*a + 3, 3*b + 3, k], k in 1:9} == 1)\n",
    "    end\n",
    "end"
   ]
  },
  {
   "cell_type": "code",
   "execution_count": null,
   "metadata": {
    "collapsed": true
   },
   "outputs": [],
   "source": [
    "# Their solution:\n",
    "for i = 1:3:7, j = 1:3:7, k = 1:9\n",
    "# i is the top left row, j is the top left column\n",
    "# For each 3x3 square, we sum from from row i to i+2 and column j to j+2\n",
    "@addConstraint(sudoku, sum{x[r,c,k], r=i:i+2, c=j:j+2} == 1)\n",
    "end"
   ]
  },
  {
   "cell_type": "markdown",
   "metadata": {},
   "source": [
    "### Every cell must contain a digit"
   ]
  },
  {
   "cell_type": "code",
   "execution_count": null,
   "metadata": {
    "collapsed": true
   },
   "outputs": [],
   "source": [
    "# My solution:\n",
    "for i in 1:9\n",
    "    for j in 1:9\n",
    "        @constraint(m, sum{x[i,j,k], k in 1:9} == 1)\n",
    "    end\n",
    "end\n"
   ]
  },
  {
   "cell_type": "code",
   "execution_count": null,
   "metadata": {
    "collapsed": true
   },
   "outputs": [],
   "source": [
    "# Their solution:\n",
    "for i = 1:9, j = 1:9\n",
    "# If the space isn’t empty\n",
    "if init_sol[i,j] != 0\n",
    "# Then the corresponding variable for that digit and location must be 1\n",
    "@addConstraint(sudoku, x[i,j,init_sol[i,j]] == 1)\n",
    "end\n",
    "end"
   ]
  },
  {
   "cell_type": "markdown",
   "metadata": {},
   "source": [
    "## Solve"
   ]
  },
  {
   "cell_type": "code",
   "execution_count": null,
   "metadata": {
    "collapsed": true
   },
   "outputs": [],
   "source": [
    "# My way:\n",
    "solve(m)\n",
    "\n",
    "#getvalue(x)\n",
    "x_results = getvalue(x)\n",
    "A = x_results[5,2,:]\n",
    "B = x_results[3,6,:]\n",
    "C = x_results[9,7,:]\n",
    "\n",
    "println(\"A: \",A)\n",
    "println(\"B: \",B)\n",
    "println(\"C: \",C)\n",
    "#x_results"
   ]
  },
  {
   "cell_type": "code",
   "execution_count": null,
   "metadata": {
    "collapsed": true
   },
   "outputs": [],
   "source": [
    "# Their way:\n",
    "solve(sudoku)\n",
    "# Get the values of x\n",
    "x_val = getValue(x)\n",
    "# Create a matrix to store the solution\n",
    "sol = zeros(Int,9,9) # 9x9 matrix of integers\n",
    "for i in 1:9, j in 1:9, k in 1:9\n",
    "# There are numerical issue when solving integer programs, so the values\n",
    "# may not be precisely 0 and 1.\n",
    "# Occasionally, you might get solution is very close to 1 (say 0.9999)\n",
    "# which indeed indicates 1,and solution is very close to 0 (say 0.1111)\n",
    "# which indeed indicates 0.\n",
    "# We can just round them to the nearest integer to make it easier\n",
    "if round(Int, x_val[i,j,k]) == 1\n",
    "sol[i,j] = k\n",
    "end\n",
    "end\n",
    "println(sol)"
   ]
  }
 ],
 "metadata": {
  "kernelspec": {
   "display_name": "Julia 0.5.0",
   "language": "julia",
   "name": "julia-0.5"
  },
  "language_info": {
   "file_extension": ".jl",
   "mimetype": "application/julia",
   "name": "julia",
   "version": "0.5.0"
  }
 },
 "nbformat": 4,
 "nbformat_minor": 1
}
