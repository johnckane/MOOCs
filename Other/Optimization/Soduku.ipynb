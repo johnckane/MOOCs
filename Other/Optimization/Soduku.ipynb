{
 "cells": [
  {
   "cell_type": "markdown",
   "metadata": {},
   "source": [
    "The objective of this notebook is to compare my (incorrect) solution to the one provided by the course. "
   ]
  },
  {
   "cell_type": "code",
   "execution_count": 56,
   "metadata": {
    "collapsed": true
   },
   "outputs": [],
   "source": [
    "using JuMP"
   ]
  },
  {
   "cell_type": "markdown",
   "metadata": {},
   "source": [
    "### Initialize the variables"
   ]
  },
  {
   "cell_type": "code",
   "execution_count": 32,
   "metadata": {
    "collapsed": false
   },
   "outputs": [
    {
     "data": {
      "text/latex": [
       "$$ x_{i,j,k} \\in \\{0,1\\} \\quad\\forall i \\in \\{1,2,\\dots,8,9\\}, j \\in \\{1,2,\\dots,8,9\\}, k \\in \\{1,2,\\dots,8,9\\} $$"
      ],
      "text/plain": [
       "9×9×9 Array{JuMP.Variable,3}:\n",
       "[:, :, 1] =\n",
       " x[1,1,1]  x[1,2,1]  x[1,3,1]  x[1,4,1]  …  x[1,7,1]  x[1,8,1]  x[1,9,1]\n",
       " x[2,1,1]  x[2,2,1]  x[2,3,1]  x[2,4,1]     x[2,7,1]  x[2,8,1]  x[2,9,1]\n",
       " x[3,1,1]  x[3,2,1]  x[3,3,1]  x[3,4,1]     x[3,7,1]  x[3,8,1]  x[3,9,1]\n",
       " x[4,1,1]  x[4,2,1]  x[4,3,1]  x[4,4,1]     x[4,7,1]  x[4,8,1]  x[4,9,1]\n",
       " x[5,1,1]  x[5,2,1]  x[5,3,1]  x[5,4,1]     x[5,7,1]  x[5,8,1]  x[5,9,1]\n",
       " x[6,1,1]  x[6,2,1]  x[6,3,1]  x[6,4,1]  …  x[6,7,1]  x[6,8,1]  x[6,9,1]\n",
       " x[7,1,1]  x[7,2,1]  x[7,3,1]  x[7,4,1]     x[7,7,1]  x[7,8,1]  x[7,9,1]\n",
       " x[8,1,1]  x[8,2,1]  x[8,3,1]  x[8,4,1]     x[8,7,1]  x[8,8,1]  x[8,9,1]\n",
       " x[9,1,1]  x[9,2,1]  x[9,3,1]  x[9,4,1]     x[9,7,1]  x[9,8,1]  x[9,9,1]\n",
       "\n",
       "[:, :, 2] =\n",
       " x[1,1,2]  x[1,2,2]  x[1,3,2]  x[1,4,2]  …  x[1,7,2]  x[1,8,2]  x[1,9,2]\n",
       " x[2,1,2]  x[2,2,2]  x[2,3,2]  x[2,4,2]     x[2,7,2]  x[2,8,2]  x[2,9,2]\n",
       " x[3,1,2]  x[3,2,2]  x[3,3,2]  x[3,4,2]     x[3,7,2]  x[3,8,2]  x[3,9,2]\n",
       " x[4,1,2]  x[4,2,2]  x[4,3,2]  x[4,4,2]     x[4,7,2]  x[4,8,2]  x[4,9,2]\n",
       " x[5,1,2]  x[5,2,2]  x[5,3,2]  x[5,4,2]     x[5,7,2]  x[5,8,2]  x[5,9,2]\n",
       " x[6,1,2]  x[6,2,2]  x[6,3,2]  x[6,4,2]  …  x[6,7,2]  x[6,8,2]  x[6,9,2]\n",
       " x[7,1,2]  x[7,2,2]  x[7,3,2]  x[7,4,2]     x[7,7,2]  x[7,8,2]  x[7,9,2]\n",
       " x[8,1,2]  x[8,2,2]  x[8,3,2]  x[8,4,2]     x[8,7,2]  x[8,8,2]  x[8,9,2]\n",
       " x[9,1,2]  x[9,2,2]  x[9,3,2]  x[9,4,2]     x[9,7,2]  x[9,8,2]  x[9,9,2]\n",
       "\n",
       "[:, :, 3] =\n",
       " x[1,1,3]  x[1,2,3]  x[1,3,3]  x[1,4,3]  …  x[1,7,3]  x[1,8,3]  x[1,9,3]\n",
       " x[2,1,3]  x[2,2,3]  x[2,3,3]  x[2,4,3]     x[2,7,3]  x[2,8,3]  x[2,9,3]\n",
       " x[3,1,3]  x[3,2,3]  x[3,3,3]  x[3,4,3]     x[3,7,3]  x[3,8,3]  x[3,9,3]\n",
       " x[4,1,3]  x[4,2,3]  x[4,3,3]  x[4,4,3]     x[4,7,3]  x[4,8,3]  x[4,9,3]\n",
       " x[5,1,3]  x[5,2,3]  x[5,3,3]  x[5,4,3]     x[5,7,3]  x[5,8,3]  x[5,9,3]\n",
       " x[6,1,3]  x[6,2,3]  x[6,3,3]  x[6,4,3]  …  x[6,7,3]  x[6,8,3]  x[6,9,3]\n",
       " x[7,1,3]  x[7,2,3]  x[7,3,3]  x[7,4,3]     x[7,7,3]  x[7,8,3]  x[7,9,3]\n",
       " x[8,1,3]  x[8,2,3]  x[8,3,3]  x[8,4,3]     x[8,7,3]  x[8,8,3]  x[8,9,3]\n",
       " x[9,1,3]  x[9,2,3]  x[9,3,3]  x[9,4,3]     x[9,7,3]  x[9,8,3]  x[9,9,3]\n",
       "\n",
       "[:, :, 4] =\n",
       " x[1,1,4]  x[1,2,4]  x[1,3,4]  x[1,4,4]  …  x[1,7,4]  x[1,8,4]  x[1,9,4]\n",
       " x[2,1,4]  x[2,2,4]  x[2,3,4]  x[2,4,4]     x[2,7,4]  x[2,8,4]  x[2,9,4]\n",
       " x[3,1,4]  x[3,2,4]  x[3,3,4]  x[3,4,4]     x[3,7,4]  x[3,8,4]  x[3,9,4]\n",
       " x[4,1,4]  x[4,2,4]  x[4,3,4]  x[4,4,4]     x[4,7,4]  x[4,8,4]  x[4,9,4]\n",
       " x[5,1,4]  x[5,2,4]  x[5,3,4]  x[5,4,4]     x[5,7,4]  x[5,8,4]  x[5,9,4]\n",
       " x[6,1,4]  x[6,2,4]  x[6,3,4]  x[6,4,4]  …  x[6,7,4]  x[6,8,4]  x[6,9,4]\n",
       " x[7,1,4]  x[7,2,4]  x[7,3,4]  x[7,4,4]     x[7,7,4]  x[7,8,4]  x[7,9,4]\n",
       " x[8,1,4]  x[8,2,4]  x[8,3,4]  x[8,4,4]     x[8,7,4]  x[8,8,4]  x[8,9,4]\n",
       " x[9,1,4]  x[9,2,4]  x[9,3,4]  x[9,4,4]     x[9,7,4]  x[9,8,4]  x[9,9,4]\n",
       "\n",
       "[:, :, 5] =\n",
       " x[1,1,5]  x[1,2,5]  x[1,3,5]  x[1,4,5]  …  x[1,7,5]  x[1,8,5]  x[1,9,5]\n",
       " x[2,1,5]  x[2,2,5]  x[2,3,5]  x[2,4,5]     x[2,7,5]  x[2,8,5]  x[2,9,5]\n",
       " x[3,1,5]  x[3,2,5]  x[3,3,5]  x[3,4,5]     x[3,7,5]  x[3,8,5]  x[3,9,5]\n",
       " x[4,1,5]  x[4,2,5]  x[4,3,5]  x[4,4,5]     x[4,7,5]  x[4,8,5]  x[4,9,5]\n",
       " x[5,1,5]  x[5,2,5]  x[5,3,5]  x[5,4,5]     x[5,7,5]  x[5,8,5]  x[5,9,5]\n",
       " x[6,1,5]  x[6,2,5]  x[6,3,5]  x[6,4,5]  …  x[6,7,5]  x[6,8,5]  x[6,9,5]\n",
       " x[7,1,5]  x[7,2,5]  x[7,3,5]  x[7,4,5]     x[7,7,5]  x[7,8,5]  x[7,9,5]\n",
       " x[8,1,5]  x[8,2,5]  x[8,3,5]  x[8,4,5]     x[8,7,5]  x[8,8,5]  x[8,9,5]\n",
       " x[9,1,5]  x[9,2,5]  x[9,3,5]  x[9,4,5]     x[9,7,5]  x[9,8,5]  x[9,9,5]\n",
       "\n",
       "[:, :, 6] =\n",
       " x[1,1,6]  x[1,2,6]  x[1,3,6]  x[1,4,6]  …  x[1,7,6]  x[1,8,6]  x[1,9,6]\n",
       " x[2,1,6]  x[2,2,6]  x[2,3,6]  x[2,4,6]     x[2,7,6]  x[2,8,6]  x[2,9,6]\n",
       " x[3,1,6]  x[3,2,6]  x[3,3,6]  x[3,4,6]     x[3,7,6]  x[3,8,6]  x[3,9,6]\n",
       " x[4,1,6]  x[4,2,6]  x[4,3,6]  x[4,4,6]     x[4,7,6]  x[4,8,6]  x[4,9,6]\n",
       " x[5,1,6]  x[5,2,6]  x[5,3,6]  x[5,4,6]     x[5,7,6]  x[5,8,6]  x[5,9,6]\n",
       " x[6,1,6]  x[6,2,6]  x[6,3,6]  x[6,4,6]  …  x[6,7,6]  x[6,8,6]  x[6,9,6]\n",
       " x[7,1,6]  x[7,2,6]  x[7,3,6]  x[7,4,6]     x[7,7,6]  x[7,8,6]  x[7,9,6]\n",
       " x[8,1,6]  x[8,2,6]  x[8,3,6]  x[8,4,6]     x[8,7,6]  x[8,8,6]  x[8,9,6]\n",
       " x[9,1,6]  x[9,2,6]  x[9,3,6]  x[9,4,6]     x[9,7,6]  x[9,8,6]  x[9,9,6]\n",
       "\n",
       "[:, :, 7] =\n",
       " x[1,1,7]  x[1,2,7]  x[1,3,7]  x[1,4,7]  …  x[1,7,7]  x[1,8,7]  x[1,9,7]\n",
       " x[2,1,7]  x[2,2,7]  x[2,3,7]  x[2,4,7]     x[2,7,7]  x[2,8,7]  x[2,9,7]\n",
       " x[3,1,7]  x[3,2,7]  x[3,3,7]  x[3,4,7]     x[3,7,7]  x[3,8,7]  x[3,9,7]\n",
       " x[4,1,7]  x[4,2,7]  x[4,3,7]  x[4,4,7]     x[4,7,7]  x[4,8,7]  x[4,9,7]\n",
       " x[5,1,7]  x[5,2,7]  x[5,3,7]  x[5,4,7]     x[5,7,7]  x[5,8,7]  x[5,9,7]\n",
       " x[6,1,7]  x[6,2,7]  x[6,3,7]  x[6,4,7]  …  x[6,7,7]  x[6,8,7]  x[6,9,7]\n",
       " x[7,1,7]  x[7,2,7]  x[7,3,7]  x[7,4,7]     x[7,7,7]  x[7,8,7]  x[7,9,7]\n",
       " x[8,1,7]  x[8,2,7]  x[8,3,7]  x[8,4,7]     x[8,7,7]  x[8,8,7]  x[8,9,7]\n",
       " x[9,1,7]  x[9,2,7]  x[9,3,7]  x[9,4,7]     x[9,7,7]  x[9,8,7]  x[9,9,7]\n",
       "\n",
       "[:, :, 8] =\n",
       " x[1,1,8]  x[1,2,8]  x[1,3,8]  x[1,4,8]  …  x[1,7,8]  x[1,8,8]  x[1,9,8]\n",
       " x[2,1,8]  x[2,2,8]  x[2,3,8]  x[2,4,8]     x[2,7,8]  x[2,8,8]  x[2,9,8]\n",
       " x[3,1,8]  x[3,2,8]  x[3,3,8]  x[3,4,8]     x[3,7,8]  x[3,8,8]  x[3,9,8]\n",
       " x[4,1,8]  x[4,2,8]  x[4,3,8]  x[4,4,8]     x[4,7,8]  x[4,8,8]  x[4,9,8]\n",
       " x[5,1,8]  x[5,2,8]  x[5,3,8]  x[5,4,8]     x[5,7,8]  x[5,8,8]  x[5,9,8]\n",
       " x[6,1,8]  x[6,2,8]  x[6,3,8]  x[6,4,8]  …  x[6,7,8]  x[6,8,8]  x[6,9,8]\n",
       " x[7,1,8]  x[7,2,8]  x[7,3,8]  x[7,4,8]     x[7,7,8]  x[7,8,8]  x[7,9,8]\n",
       " x[8,1,8]  x[8,2,8]  x[8,3,8]  x[8,4,8]     x[8,7,8]  x[8,8,8]  x[8,9,8]\n",
       " x[9,1,8]  x[9,2,8]  x[9,3,8]  x[9,4,8]     x[9,7,8]  x[9,8,8]  x[9,9,8]\n",
       "\n",
       "[:, :, 9] =\n",
       " x[1,1,9]  x[1,2,9]  x[1,3,9]  x[1,4,9]  …  x[1,7,9]  x[1,8,9]  x[1,9,9]\n",
       " x[2,1,9]  x[2,2,9]  x[2,3,9]  x[2,4,9]     x[2,7,9]  x[2,8,9]  x[2,9,9]\n",
       " x[3,1,9]  x[3,2,9]  x[3,3,9]  x[3,4,9]     x[3,7,9]  x[3,8,9]  x[3,9,9]\n",
       " x[4,1,9]  x[4,2,9]  x[4,3,9]  x[4,4,9]     x[4,7,9]  x[4,8,9]  x[4,9,9]\n",
       " x[5,1,9]  x[5,2,9]  x[5,3,9]  x[5,4,9]     x[5,7,9]  x[5,8,9]  x[5,9,9]\n",
       " x[6,1,9]  x[6,2,9]  x[6,3,9]  x[6,4,9]  …  x[6,7,9]  x[6,8,9]  x[6,9,9]\n",
       " x[7,1,9]  x[7,2,9]  x[7,3,9]  x[7,4,9]     x[7,7,9]  x[7,8,9]  x[7,9,9]\n",
       " x[8,1,9]  x[8,2,9]  x[8,3,9]  x[8,4,9]     x[8,7,9]  x[8,8,9]  x[8,9,9]\n",
       " x[9,1,9]  x[9,2,9]  x[9,3,9]  x[9,4,9]     x[9,7,9]  x[9,8,9]  x[9,9,9]"
      ]
     },
     "execution_count": 32,
     "metadata": {},
     "output_type": "execute_result"
    }
   ],
   "source": [
    "# My way:\n",
    "m = Model()\n",
    "@variable(m, x[1:9,1:9,1:9], Bin)"
   ]
  },
  {
   "cell_type": "code",
   "execution_count": 33,
   "metadata": {
    "collapsed": false
   },
   "outputs": [
    {
     "data": {
      "text/latex": [
       "$$ x_{i,j,k} \\in \\{0,1\\} \\quad\\forall i \\in \\{1,2,\\dots,8,9\\}, j \\in \\{1,2,\\dots,8,9\\}, k \\in \\{1,2,\\dots,8,9\\} $$"
      ],
      "text/plain": [
       "9×9×9 Array{JuMP.Variable,3}:\n",
       "[:, :, 1] =\n",
       " x[1,1,1]  x[1,2,1]  x[1,3,1]  x[1,4,1]  …  x[1,7,1]  x[1,8,1]  x[1,9,1]\n",
       " x[2,1,1]  x[2,2,1]  x[2,3,1]  x[2,4,1]     x[2,7,1]  x[2,8,1]  x[2,9,1]\n",
       " x[3,1,1]  x[3,2,1]  x[3,3,1]  x[3,4,1]     x[3,7,1]  x[3,8,1]  x[3,9,1]\n",
       " x[4,1,1]  x[4,2,1]  x[4,3,1]  x[4,4,1]     x[4,7,1]  x[4,8,1]  x[4,9,1]\n",
       " x[5,1,1]  x[5,2,1]  x[5,3,1]  x[5,4,1]     x[5,7,1]  x[5,8,1]  x[5,9,1]\n",
       " x[6,1,1]  x[6,2,1]  x[6,3,1]  x[6,4,1]  …  x[6,7,1]  x[6,8,1]  x[6,9,1]\n",
       " x[7,1,1]  x[7,2,1]  x[7,3,1]  x[7,4,1]     x[7,7,1]  x[7,8,1]  x[7,9,1]\n",
       " x[8,1,1]  x[8,2,1]  x[8,3,1]  x[8,4,1]     x[8,7,1]  x[8,8,1]  x[8,9,1]\n",
       " x[9,1,1]  x[9,2,1]  x[9,3,1]  x[9,4,1]     x[9,7,1]  x[9,8,1]  x[9,9,1]\n",
       "\n",
       "[:, :, 2] =\n",
       " x[1,1,2]  x[1,2,2]  x[1,3,2]  x[1,4,2]  …  x[1,7,2]  x[1,8,2]  x[1,9,2]\n",
       " x[2,1,2]  x[2,2,2]  x[2,3,2]  x[2,4,2]     x[2,7,2]  x[2,8,2]  x[2,9,2]\n",
       " x[3,1,2]  x[3,2,2]  x[3,3,2]  x[3,4,2]     x[3,7,2]  x[3,8,2]  x[3,9,2]\n",
       " x[4,1,2]  x[4,2,2]  x[4,3,2]  x[4,4,2]     x[4,7,2]  x[4,8,2]  x[4,9,2]\n",
       " x[5,1,2]  x[5,2,2]  x[5,3,2]  x[5,4,2]     x[5,7,2]  x[5,8,2]  x[5,9,2]\n",
       " x[6,1,2]  x[6,2,2]  x[6,3,2]  x[6,4,2]  …  x[6,7,2]  x[6,8,2]  x[6,9,2]\n",
       " x[7,1,2]  x[7,2,2]  x[7,3,2]  x[7,4,2]     x[7,7,2]  x[7,8,2]  x[7,9,2]\n",
       " x[8,1,2]  x[8,2,2]  x[8,3,2]  x[8,4,2]     x[8,7,2]  x[8,8,2]  x[8,9,2]\n",
       " x[9,1,2]  x[9,2,2]  x[9,3,2]  x[9,4,2]     x[9,7,2]  x[9,8,2]  x[9,9,2]\n",
       "\n",
       "[:, :, 3] =\n",
       " x[1,1,3]  x[1,2,3]  x[1,3,3]  x[1,4,3]  …  x[1,7,3]  x[1,8,3]  x[1,9,3]\n",
       " x[2,1,3]  x[2,2,3]  x[2,3,3]  x[2,4,3]     x[2,7,3]  x[2,8,3]  x[2,9,3]\n",
       " x[3,1,3]  x[3,2,3]  x[3,3,3]  x[3,4,3]     x[3,7,3]  x[3,8,3]  x[3,9,3]\n",
       " x[4,1,3]  x[4,2,3]  x[4,3,3]  x[4,4,3]     x[4,7,3]  x[4,8,3]  x[4,9,3]\n",
       " x[5,1,3]  x[5,2,3]  x[5,3,3]  x[5,4,3]     x[5,7,3]  x[5,8,3]  x[5,9,3]\n",
       " x[6,1,3]  x[6,2,3]  x[6,3,3]  x[6,4,3]  …  x[6,7,3]  x[6,8,3]  x[6,9,3]\n",
       " x[7,1,3]  x[7,2,3]  x[7,3,3]  x[7,4,3]     x[7,7,3]  x[7,8,3]  x[7,9,3]\n",
       " x[8,1,3]  x[8,2,3]  x[8,3,3]  x[8,4,3]     x[8,7,3]  x[8,8,3]  x[8,9,3]\n",
       " x[9,1,3]  x[9,2,3]  x[9,3,3]  x[9,4,3]     x[9,7,3]  x[9,8,3]  x[9,9,3]\n",
       "\n",
       "[:, :, 4] =\n",
       " x[1,1,4]  x[1,2,4]  x[1,3,4]  x[1,4,4]  …  x[1,7,4]  x[1,8,4]  x[1,9,4]\n",
       " x[2,1,4]  x[2,2,4]  x[2,3,4]  x[2,4,4]     x[2,7,4]  x[2,8,4]  x[2,9,4]\n",
       " x[3,1,4]  x[3,2,4]  x[3,3,4]  x[3,4,4]     x[3,7,4]  x[3,8,4]  x[3,9,4]\n",
       " x[4,1,4]  x[4,2,4]  x[4,3,4]  x[4,4,4]     x[4,7,4]  x[4,8,4]  x[4,9,4]\n",
       " x[5,1,4]  x[5,2,4]  x[5,3,4]  x[5,4,4]     x[5,7,4]  x[5,8,4]  x[5,9,4]\n",
       " x[6,1,4]  x[6,2,4]  x[6,3,4]  x[6,4,4]  …  x[6,7,4]  x[6,8,4]  x[6,9,4]\n",
       " x[7,1,4]  x[7,2,4]  x[7,3,4]  x[7,4,4]     x[7,7,4]  x[7,8,4]  x[7,9,4]\n",
       " x[8,1,4]  x[8,2,4]  x[8,3,4]  x[8,4,4]     x[8,7,4]  x[8,8,4]  x[8,9,4]\n",
       " x[9,1,4]  x[9,2,4]  x[9,3,4]  x[9,4,4]     x[9,7,4]  x[9,8,4]  x[9,9,4]\n",
       "\n",
       "[:, :, 5] =\n",
       " x[1,1,5]  x[1,2,5]  x[1,3,5]  x[1,4,5]  …  x[1,7,5]  x[1,8,5]  x[1,9,5]\n",
       " x[2,1,5]  x[2,2,5]  x[2,3,5]  x[2,4,5]     x[2,7,5]  x[2,8,5]  x[2,9,5]\n",
       " x[3,1,5]  x[3,2,5]  x[3,3,5]  x[3,4,5]     x[3,7,5]  x[3,8,5]  x[3,9,5]\n",
       " x[4,1,5]  x[4,2,5]  x[4,3,5]  x[4,4,5]     x[4,7,5]  x[4,8,5]  x[4,9,5]\n",
       " x[5,1,5]  x[5,2,5]  x[5,3,5]  x[5,4,5]     x[5,7,5]  x[5,8,5]  x[5,9,5]\n",
       " x[6,1,5]  x[6,2,5]  x[6,3,5]  x[6,4,5]  …  x[6,7,5]  x[6,8,5]  x[6,9,5]\n",
       " x[7,1,5]  x[7,2,5]  x[7,3,5]  x[7,4,5]     x[7,7,5]  x[7,8,5]  x[7,9,5]\n",
       " x[8,1,5]  x[8,2,5]  x[8,3,5]  x[8,4,5]     x[8,7,5]  x[8,8,5]  x[8,9,5]\n",
       " x[9,1,5]  x[9,2,5]  x[9,3,5]  x[9,4,5]     x[9,7,5]  x[9,8,5]  x[9,9,5]\n",
       "\n",
       "[:, :, 6] =\n",
       " x[1,1,6]  x[1,2,6]  x[1,3,6]  x[1,4,6]  …  x[1,7,6]  x[1,8,6]  x[1,9,6]\n",
       " x[2,1,6]  x[2,2,6]  x[2,3,6]  x[2,4,6]     x[2,7,6]  x[2,8,6]  x[2,9,6]\n",
       " x[3,1,6]  x[3,2,6]  x[3,3,6]  x[3,4,6]     x[3,7,6]  x[3,8,6]  x[3,9,6]\n",
       " x[4,1,6]  x[4,2,6]  x[4,3,6]  x[4,4,6]     x[4,7,6]  x[4,8,6]  x[4,9,6]\n",
       " x[5,1,6]  x[5,2,6]  x[5,3,6]  x[5,4,6]     x[5,7,6]  x[5,8,6]  x[5,9,6]\n",
       " x[6,1,6]  x[6,2,6]  x[6,3,6]  x[6,4,6]  …  x[6,7,6]  x[6,8,6]  x[6,9,6]\n",
       " x[7,1,6]  x[7,2,6]  x[7,3,6]  x[7,4,6]     x[7,7,6]  x[7,8,6]  x[7,9,6]\n",
       " x[8,1,6]  x[8,2,6]  x[8,3,6]  x[8,4,6]     x[8,7,6]  x[8,8,6]  x[8,9,6]\n",
       " x[9,1,6]  x[9,2,6]  x[9,3,6]  x[9,4,6]     x[9,7,6]  x[9,8,6]  x[9,9,6]\n",
       "\n",
       "[:, :, 7] =\n",
       " x[1,1,7]  x[1,2,7]  x[1,3,7]  x[1,4,7]  …  x[1,7,7]  x[1,8,7]  x[1,9,7]\n",
       " x[2,1,7]  x[2,2,7]  x[2,3,7]  x[2,4,7]     x[2,7,7]  x[2,8,7]  x[2,9,7]\n",
       " x[3,1,7]  x[3,2,7]  x[3,3,7]  x[3,4,7]     x[3,7,7]  x[3,8,7]  x[3,9,7]\n",
       " x[4,1,7]  x[4,2,7]  x[4,3,7]  x[4,4,7]     x[4,7,7]  x[4,8,7]  x[4,9,7]\n",
       " x[5,1,7]  x[5,2,7]  x[5,3,7]  x[5,4,7]     x[5,7,7]  x[5,8,7]  x[5,9,7]\n",
       " x[6,1,7]  x[6,2,7]  x[6,3,7]  x[6,4,7]  …  x[6,7,7]  x[6,8,7]  x[6,9,7]\n",
       " x[7,1,7]  x[7,2,7]  x[7,3,7]  x[7,4,7]     x[7,7,7]  x[7,8,7]  x[7,9,7]\n",
       " x[8,1,7]  x[8,2,7]  x[8,3,7]  x[8,4,7]     x[8,7,7]  x[8,8,7]  x[8,9,7]\n",
       " x[9,1,7]  x[9,2,7]  x[9,3,7]  x[9,4,7]     x[9,7,7]  x[9,8,7]  x[9,9,7]\n",
       "\n",
       "[:, :, 8] =\n",
       " x[1,1,8]  x[1,2,8]  x[1,3,8]  x[1,4,8]  …  x[1,7,8]  x[1,8,8]  x[1,9,8]\n",
       " x[2,1,8]  x[2,2,8]  x[2,3,8]  x[2,4,8]     x[2,7,8]  x[2,8,8]  x[2,9,8]\n",
       " x[3,1,8]  x[3,2,8]  x[3,3,8]  x[3,4,8]     x[3,7,8]  x[3,8,8]  x[3,9,8]\n",
       " x[4,1,8]  x[4,2,8]  x[4,3,8]  x[4,4,8]     x[4,7,8]  x[4,8,8]  x[4,9,8]\n",
       " x[5,1,8]  x[5,2,8]  x[5,3,8]  x[5,4,8]     x[5,7,8]  x[5,8,8]  x[5,9,8]\n",
       " x[6,1,8]  x[6,2,8]  x[6,3,8]  x[6,4,8]  …  x[6,7,8]  x[6,8,8]  x[6,9,8]\n",
       " x[7,1,8]  x[7,2,8]  x[7,3,8]  x[7,4,8]     x[7,7,8]  x[7,8,8]  x[7,9,8]\n",
       " x[8,1,8]  x[8,2,8]  x[8,3,8]  x[8,4,8]     x[8,7,8]  x[8,8,8]  x[8,9,8]\n",
       " x[9,1,8]  x[9,2,8]  x[9,3,8]  x[9,4,8]     x[9,7,8]  x[9,8,8]  x[9,9,8]\n",
       "\n",
       "[:, :, 9] =\n",
       " x[1,1,9]  x[1,2,9]  x[1,3,9]  x[1,4,9]  …  x[1,7,9]  x[1,8,9]  x[1,9,9]\n",
       " x[2,1,9]  x[2,2,9]  x[2,3,9]  x[2,4,9]     x[2,7,9]  x[2,8,9]  x[2,9,9]\n",
       " x[3,1,9]  x[3,2,9]  x[3,3,9]  x[3,4,9]     x[3,7,9]  x[3,8,9]  x[3,9,9]\n",
       " x[4,1,9]  x[4,2,9]  x[4,3,9]  x[4,4,9]     x[4,7,9]  x[4,8,9]  x[4,9,9]\n",
       " x[5,1,9]  x[5,2,9]  x[5,3,9]  x[5,4,9]     x[5,7,9]  x[5,8,9]  x[5,9,9]\n",
       " x[6,1,9]  x[6,2,9]  x[6,3,9]  x[6,4,9]  …  x[6,7,9]  x[6,8,9]  x[6,9,9]\n",
       " x[7,1,9]  x[7,2,9]  x[7,3,9]  x[7,4,9]     x[7,7,9]  x[7,8,9]  x[7,9,9]\n",
       " x[8,1,9]  x[8,2,9]  x[8,3,9]  x[8,4,9]     x[8,7,9]  x[8,8,9]  x[8,9,9]\n",
       " x[9,1,9]  x[9,2,9]  x[9,3,9]  x[9,4,9]     x[9,7,9]  x[9,8,9]  x[9,9,9]"
      ]
     },
     "execution_count": 33,
     "metadata": {},
     "output_type": "execute_result"
    }
   ],
   "source": [
    "# Their way:\n",
    "sudoku = Model()\n",
    "@defVar(sudoku, x[i=1:9, j=1:9, k=1:9], Bin)"
   ]
  },
  {
   "cell_type": "markdown",
   "metadata": {},
   "source": [
    "### Load the data. "
   ]
  },
  {
   "cell_type": "markdown",
   "metadata": {},
   "source": [
    "I took the inital conditions of the soduku problem and loaded them as constraints."
   ]
  },
  {
   "cell_type": "code",
   "execution_count": 34,
   "metadata": {
    "collapsed": false
   },
   "outputs": [
    {
     "data": {
      "text/latex": [
       "$$ x_{9,9,9} = 1 $$"
      ],
      "text/plain": [
       "x[9,9,9] = 1"
      ]
     },
     "execution_count": 34,
     "metadata": {},
     "output_type": "execute_result"
    }
   ],
   "source": [
    "using JuMP\n",
    "m = Model()\n",
    "\n",
    "@variable(m, x[1:9,1:9,1:9], Bin)\n",
    "\n",
    "# Need to set some initial conditions, do so in a constraint\n",
    "# Referred to as C1 in the exercise\n",
    "@constraint(m, x[1,1,5] == 1)\n",
    "@constraint(m, x[2,1,6] == 1)\n",
    "@constraint(m, x[4,1,8] == 1)\n",
    "@constraint(m, x[5,1,4] == 1)\n",
    "@constraint(m, x[6,1,7] == 1)\n",
    "@constraint(m, x[1,2,3] == 1)\n",
    "@constraint(m, x[3,2,9] == 1)\n",
    "@constraint(m, x[7,2,6] == 1)\n",
    "@constraint(m, x[3,3,8] == 1)\n",
    "@constraint(m, x[2,4,1] == 1)\n",
    "@constraint(m, x[5,4,8] == 1)\n",
    "@constraint(m, x[8,4,4] == 1)\n",
    "@constraint(m, x[1,5,7] == 1)\n",
    "@constraint(m, x[2,5,9] == 1)\n",
    "@constraint(m, x[4,5,6] == 1)\n",
    "@constraint(m, x[6,5,2] == 1)\n",
    "@constraint(m, x[8,5,1] == 1)\n",
    "@constraint(m, x[9,5,8] == 1)\n",
    "@constraint(m, x[2,6,5] == 1)\n",
    "@constraint(m, x[5,6,3] == 1)\n",
    "@constraint(m, x[8,6,9] == 1)\n",
    "@constraint(m, x[7,7,2] == 1)\n",
    "@constraint(m, x[3,8,6] == 1)\n",
    "@constraint(m, x[7,8,8] == 1)\n",
    "@constraint(m, x[9,8,7] == 1)\n",
    "@constraint(m, x[4,9,3] == 1)\n",
    "@constraint(m, x[5,9,1] == 1)\n",
    "@constraint(m, x[6,9,6] == 1)\n",
    "@constraint(m, x[8,9,5] == 1)\n",
    "@constraint(m, x[9,9,9] == 1); # the semicolon supresses printing"
   ]
  },
  {
   "cell_type": "code",
   "execution_count": 35,
   "metadata": {
    "collapsed": false
   },
   "outputs": [
    {
     "data": {
      "text/plain": [
       "30"
      ]
     },
     "execution_count": 35,
     "metadata": {},
     "output_type": "execute_result"
    }
   ],
   "source": [
    "# number of constraints\n",
    "MathProgBase.numlinconstr(m::Model)"
   ]
  },
  {
   "cell_type": "markdown",
   "metadata": {},
   "source": [
    "Here's how the course solution provided the data"
   ]
  },
  {
   "cell_type": "code",
   "execution_count": 57,
   "metadata": {
    "collapsed": false
   },
   "outputs": [
    {
     "data": {
      "text/plain": [
       "9×9 Array{Int64,2}:\n",
       " 5  3  0  0  7  0  0  0  0\n",
       " 6  0  0  1  9  5  0  0  0\n",
       " 0  9  8  0  0  0  0  6  0\n",
       " 8  0  0  0  6  0  0  0  3\n",
       " 4  0  0  8  0  3  0  0  1\n",
       " 7  0  0  0  2  0  0  0  6\n",
       " 0  6  0  0  0  0  2  8  0\n",
       " 0  0  0  4  1  9  0  0  5\n",
       " 0  0  0  0  8  0  0  7  9"
      ]
     },
     "execution_count": 57,
     "metadata": {},
     "output_type": "execute_result"
    }
   ],
   "source": [
    "init_sol = [5 3 0 0 7 0 0 0 0;\n",
    "            6 0 0 1 9 5 0 0 0;\n",
    "            0 9 8 0 0 0 0 6 0;\n",
    "            8 0 0 0 6 0 0 0 3;\n",
    "            4 0 0 8 0 3 0 0 1;\n",
    "            7 0 0 0 2 0 0 0 6;\n",
    "            0 6 0 0 0 0 2 8 0;\n",
    "            0 0 0 4 1 9 0 0 5;\n",
    "            0 0 0 0 8 0 0 7 9]"
   ]
  },
  {
   "cell_type": "code",
   "execution_count": 37,
   "metadata": {
    "collapsed": false
   },
   "outputs": [
    {
     "data": {
      "text/plain": [
       "0"
      ]
     },
     "execution_count": 37,
     "metadata": {},
     "output_type": "execute_result"
    }
   ],
   "source": [
    "# number of constraints\n",
    "MathProgBase.numlinconstr(sudoku::Model)"
   ]
  },
  {
   "cell_type": "markdown",
   "metadata": {},
   "source": [
    "## Constraints\n",
    "\n",
    "### First up: Every digit must appear in every row\n",
    "### Every digit must appear in every column"
   ]
  },
  {
   "cell_type": "code",
   "execution_count": 38,
   "metadata": {
    "collapsed": true
   },
   "outputs": [],
   "source": [
    "# My way:\n",
    "# Row\n",
    "for j in 1:9\n",
    "    for k in 1:9\n",
    "        @constraint(m, sum{x[i,j,k], i in 1:9} == 1)\n",
    "    end\n",
    "end\n",
    "# Column\n",
    "for i in 1:9\n",
    "    for k in 1:9\n",
    "        @constraint(m, sum{x[i,j,k], j in 1:9} == 1)\n",
    "    end\n",
    "end"
   ]
  },
  {
   "cell_type": "code",
   "execution_count": 39,
   "metadata": {
    "collapsed": false
   },
   "outputs": [
    {
     "data": {
      "text/plain": [
       "192"
      ]
     },
     "execution_count": 39,
     "metadata": {},
     "output_type": "execute_result"
    }
   ],
   "source": [
    "MathProgBase.numlinconstr(m::Model)"
   ]
  },
  {
   "cell_type": "code",
   "execution_count": 40,
   "metadata": {
    "collapsed": true
   },
   "outputs": [],
   "source": [
    "# Their way:\n",
    "for ind = 1:9 # Each row, OR each column\n",
    "for k = 1:9 # Each digit\n",
    "# Sum across columns (j) - row constraint\n",
    "@addConstraint(sudoku, sum{x[ind,j,k],j=1:9} == 1)\n",
    "# Sum across rows (i) - column constraint\n",
    "@addConstraint(sudoku, sum{x[i,ind,k],i=1:9} == 1)\n",
    "end\n",
    "end"
   ]
  },
  {
   "cell_type": "code",
   "execution_count": 41,
   "metadata": {
    "collapsed": false
   },
   "outputs": [
    {
     "data": {
      "text/plain": [
       "162"
      ]
     },
     "execution_count": 41,
     "metadata": {},
     "output_type": "execute_result"
    }
   ],
   "source": [
    "MathProgBase.numlinconstr(sudoku::Model)"
   ]
  },
  {
   "cell_type": "markdown",
   "metadata": {},
   "source": [
    "Looks equivalent thus far..."
   ]
  },
  {
   "cell_type": "markdown",
   "metadata": {},
   "source": [
    "### Each number 1 - 9 must appear in 3 x 3 cells."
   ]
  },
  {
   "cell_type": "code",
   "execution_count": 42,
   "metadata": {
    "collapsed": true
   },
   "outputs": [],
   "source": [
    "# My solution:\n",
    "for a in 0:2\n",
    "    for b in 0:2\n",
    "        @constraint(m, sum{x[3*a + 1, 3*b + 1, k], k in 1:9} == 1)\n",
    "        @constraint(m, sum{x[3*a + 1, 3*b + 2, k], k in 1:9} == 1)\n",
    "        @constraint(m, sum{x[3*a + 1, 3*b + 3, k], k in 1:9} == 1)\n",
    "        @constraint(m, sum{x[3*a + 2, 3*b + 1, k], k in 1:9} == 1)\n",
    "        @constraint(m, sum{x[3*a + 2, 3*b + 2, k], k in 1:9} == 1)\n",
    "        @constraint(m, sum{x[3*a + 2, 3*b + 3, k], k in 1:9} == 1)\n",
    "        @constraint(m, sum{x[3*a + 3, 3*b + 1, k], k in 1:9} == 1)\n",
    "        @constraint(m, sum{x[3*a + 3, 3*b + 2, k], k in 1:9} == 1)\n",
    "        @constraint(m, sum{x[3*a + 3, 3*b + 3, k], k in 1:9} == 1)\n",
    "    end\n",
    "end"
   ]
  },
  {
   "cell_type": "code",
   "execution_count": 43,
   "metadata": {
    "collapsed": false
   },
   "outputs": [
    {
     "data": {
      "text/plain": [
       "273"
      ]
     },
     "execution_count": 43,
     "metadata": {},
     "output_type": "execute_result"
    }
   ],
   "source": [
    "MathProgBase.numlinconstr(m::Model)"
   ]
  },
  {
   "cell_type": "code",
   "execution_count": 44,
   "metadata": {
    "collapsed": true
   },
   "outputs": [],
   "source": [
    "# Their solution:\n",
    "for i = 1:3:7, j = 1:3:7, k = 1:9\n",
    "# i is the top left row, j is the top left column\n",
    "# For each 3x3 square, we sum from from row i to i+2 and column j to j+2\n",
    "@addConstraint(sudoku, sum{x[r,c,k], r=i:i+2, c=j:j+2} == 1)\n",
    "end"
   ]
  },
  {
   "cell_type": "code",
   "execution_count": 45,
   "metadata": {
    "collapsed": false
   },
   "outputs": [
    {
     "data": {
      "text/plain": [
       "243"
      ]
     },
     "execution_count": 45,
     "metadata": {},
     "output_type": "execute_result"
    }
   ],
   "source": [
    "MathProgBase.numlinconstr(sudoku::Model)"
   ]
  },
  {
   "cell_type": "markdown",
   "metadata": {},
   "source": [
    "### Every cell must contain a digit"
   ]
  },
  {
   "cell_type": "code",
   "execution_count": 46,
   "metadata": {
    "collapsed": true
   },
   "outputs": [],
   "source": [
    "# My solution:\n",
    "for i in 1:9\n",
    "    for j in 1:9\n",
    "        @constraint(m, sum{x[i,j,k], k in 1:9} == 1)\n",
    "    end\n",
    "end\n"
   ]
  },
  {
   "cell_type": "code",
   "execution_count": 47,
   "metadata": {
    "collapsed": false
   },
   "outputs": [
    {
     "data": {
      "text/plain": [
       "354"
      ]
     },
     "execution_count": 47,
     "metadata": {},
     "output_type": "execute_result"
    }
   ],
   "source": [
    "MathProgBase.numlinconstr(m::Model)"
   ]
  },
  {
   "cell_type": "code",
   "execution_count": 50,
   "metadata": {
    "collapsed": true
   },
   "outputs": [],
   "source": [
    "# Their solution:\n",
    "for i = 1:9, j = 1:9\n",
    "# If the space isn’t empty\n",
    "if init_sol[i,j] != 0\n",
    "# Then the corresponding variable for that digit and location must be 1\n",
    "@addConstraint(sudoku, x[i,j,init_sol[i,j]] == 1)\n",
    "end\n",
    "end"
   ]
  },
  {
   "cell_type": "code",
   "execution_count": 51,
   "metadata": {
    "collapsed": false
   },
   "outputs": [
    {
     "data": {
      "text/plain": [
       "303"
      ]
     },
     "execution_count": 51,
     "metadata": {},
     "output_type": "execute_result"
    }
   ],
   "source": [
    "MathProgBase.numlinconstr(sudoku::Model)"
   ]
  },
  {
   "cell_type": "markdown",
   "metadata": {},
   "source": [
    "So now I have 51 additional constraints..."
   ]
  },
  {
   "cell_type": "code",
   "execution_count": 60,
   "metadata": {
    "collapsed": false
   },
   "outputs": [
    {
     "name": "stdout",
     "output_type": "stream",
     "text": [
      "81\n",
      "30\n"
     ]
    }
   ],
   "source": [
    "# Let's do these individually, build two new models\n",
    "m2 = Model()\n",
    "@variable(m2, x[1:9,1:9,1:9], Bin)\n",
    "sudoku2 = Model()\n",
    "@defVar(sudoku2, x[i=1:9, j=1:9, k=1:9], Bin)\n",
    "\n",
    "for i in 1:9\n",
    "    for j in 1:9\n",
    "        @constraint(m2, sum{x[i,j,k], k in 1:9} == 1)\n",
    "    end\n",
    "end\n",
    "\n",
    "for i = 1:9, j = 1:9\n",
    "    # If the space isn’t empty\n",
    "    if init_sol[i,j] != 0\n",
    "    # Then the corresponding variable for that digit and location must be 1\n",
    "    @addConstraint(sudoku2, x[i,j,init_sol[i,j]] == 1)\n",
    "    end\n",
    "end\n",
    "\n",
    "println(MathProgBase.numlinconstr(m2::Model))\n",
    "println(MathProgBase.numlinconstr(sudoku2::Model))\n",
    "\n"
   ]
  },
  {
   "cell_type": "markdown",
   "metadata": {},
   "source": [
    "So this is what happened, my version adds 81 new constraints, whereas theirs only adds 30 -- the 30 inital solutions. Some of mine may be redundant..."
   ]
  },
  {
   "cell_type": "markdown",
   "metadata": {},
   "source": [
    "## Solve"
   ]
  },
  {
   "cell_type": "code",
   "execution_count": 61,
   "metadata": {
    "collapsed": false
   },
   "outputs": [
    {
     "ename": "LoadError",
     "evalue": "LoadError: No MIP solver detected. Try installing one of the following packages: \"Cbc\",  \"GLPKMathProgInterface\",  \"Gurobi\",  \"CPLEX\",  \"Mosek\",  and restarting Julia\nwhile loading In[61], in expression starting on line 2",
     "output_type": "error",
     "traceback": [
      "LoadError: No MIP solver detected. Try installing one of the following packages: \"Cbc\",  \"GLPKMathProgInterface\",  \"Gurobi\",  \"CPLEX\",  \"Mosek\",  and restarting Julia\nwhile loading In[61], in expression starting on line 2",
      "",
      " in LinearQuadraticModel(::MathProgBase.DefaultMIPSolver) at /home/john/.julia/v0.5/MathProgBase/src/defaultsolvers.jl:68",
      " in #build#93(::Bool, ::Bool, ::JuMP.ProblemTraits, ::Function, ::JuMP.Model) at /home/john/.julia/v0.5/JuMP/src/solvers.jl:370",
      " in (::JuMP.#kw##build)(::Array{Any,1}, ::JuMP.#build, ::JuMP.Model) at ./<missing>:0",
      " in #solve#88(::Bool, ::Bool, ::Bool, ::Array{Any,1}, ::Function, ::JuMP.Model) at /home/john/.julia/v0.5/JuMP/src/solvers.jl:134",
      " in solve(::JuMP.Model) at /home/john/.julia/v0.5/JuMP/src/solvers.jl:116"
     ]
    }
   ],
   "source": [
    "# My way:\n",
    "solve(m)\n",
    "\n",
    "#getvalue(x)\n",
    "x_results = getvalue(x)\n",
    "A = x_results[5,2,:]\n",
    "B = x_results[3,6,:]\n",
    "C = x_results[9,7,:]\n",
    "\n",
    "println(\"A: \",A)\n",
    "println(\"B: \",B)\n",
    "println(\"C: \",C)\n",
    "#x_results"
   ]
  },
  {
   "cell_type": "code",
   "execution_count": 62,
   "metadata": {
    "collapsed": false
   },
   "outputs": [
    {
     "ename": "LoadError",
     "evalue": "LoadError: No MIP solver detected. Try installing one of the following packages: \"Cbc\",  \"GLPKMathProgInterface\",  \"Gurobi\",  \"CPLEX\",  \"Mosek\",  and restarting Julia\nwhile loading In[62], in expression starting on line 2",
     "output_type": "error",
     "traceback": [
      "LoadError: No MIP solver detected. Try installing one of the following packages: \"Cbc\",  \"GLPKMathProgInterface\",  \"Gurobi\",  \"CPLEX\",  \"Mosek\",  and restarting Julia\nwhile loading In[62], in expression starting on line 2",
      "",
      " in LinearQuadraticModel(::MathProgBase.DefaultMIPSolver) at /home/john/.julia/v0.5/MathProgBase/src/defaultsolvers.jl:68",
      " in #build#93(::Bool, ::Bool, ::JuMP.ProblemTraits, ::Function, ::JuMP.Model) at /home/john/.julia/v0.5/JuMP/src/solvers.jl:370",
      " in (::JuMP.#kw##build)(::Array{Any,1}, ::JuMP.#build, ::JuMP.Model) at ./<missing>:0",
      " in #solve#88(::Bool, ::Bool, ::Bool, ::Array{Any,1}, ::Function, ::JuMP.Model) at /home/john/.julia/v0.5/JuMP/src/solvers.jl:134",
      " in solve(::JuMP.Model) at /home/john/.julia/v0.5/JuMP/src/solvers.jl:116"
     ]
    }
   ],
   "source": [
    "# Their way:\n",
    "solve(sudoku)\n",
    "# Get the values of x\n",
    "x_val = getValue(x)\n",
    "# Create a matrix to store the solution\n",
    "sol = zeros(Int,9,9) # 9x9 matrix of integers\n",
    "for i in 1:9, j in 1:9, k in 1:9\n",
    "# There are numerical issue when solving integer programs, so the values\n",
    "# may not be precisely 0 and 1.\n",
    "# Occasionally, you might get solution is very close to 1 (say 0.9999)\n",
    "# which indeed indicates 1,and solution is very close to 0 (say 0.1111)\n",
    "# which indeed indicates 0.\n",
    "# We can just round them to the nearest integer to make it easier\n",
    "if round(Int, x_val[i,j,k]) == 1\n",
    "sol[i,j] = k\n",
    "end\n",
    "end\n",
    "println(sol)"
   ]
  }
 ],
 "metadata": {
  "kernelspec": {
   "display_name": "Julia 0.5.0",
   "language": "julia",
   "name": "julia-0.5"
  },
  "language_info": {
   "file_extension": ".jl",
   "mimetype": "application/julia",
   "name": "julia",
   "version": "0.5.0"
  }
 },
 "nbformat": 4,
 "nbformat_minor": 1
}
