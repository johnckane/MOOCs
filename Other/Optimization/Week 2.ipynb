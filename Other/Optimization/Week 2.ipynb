{
 "cells": [
  {
   "cell_type": "code",
   "execution_count": 1,
   "metadata": {
    "collapsed": false
   },
   "outputs": [
    {
     "name": "stdout",
     "output_type": "stream",
     "text": [
      "variable values: x: 1 dimensions:\n",
      "[x11] = 15.0\n",
      "[x12] = 0.0\n",
      "[x21] = 0.0\n",
      "[x22] = 12.0\n",
      "[x31] = 9.0\n",
      "[x32] = 0.0\n",
      "\n",
      "Objetive value: 69.0\n"
     ]
    }
   ],
   "source": [
    "## This Is Part B\n",
    "using JuMP\n",
    "#Define model \n",
    "m = Model()\n",
    "\n",
    "# road*machines\n",
    "S = [\"x11\",\"x12\",\"x21\",\"x22\",\"x31\",\"x32\"]\n",
    "#Non-negativity\n",
    "@variable(m, x[S] >= 0)\n",
    "#Only 24 hours for each machine - machine 1\n",
    "@constraint(m, 1x[\"x11\"] + 1x[\"x21\"] + 1x[\"x31\"] <= 24)\n",
    "#Only 24 hours for each machine - machine 1\n",
    "@constraint(m, 1x[\"x12\"] + 1x[\"x22\"] + 1x[\"x32\"] <= 24)\n",
    "#remove 15 inches of snow from road 1\n",
    "@constraint(m, 1x[\"x11\"] + 2x[\"x12\"] <= 15)\n",
    "#remove 24 inches of snow from road 2\n",
    "@constraint(m, 1.2x[\"x21\"] + 2x[\"x22\"] <= 24)\n",
    "#remove 18 inches of snow from road 3\n",
    "@constraint(m, 2x[\"x31\"] + 3x[\"x32\"] <= 18)\n",
    "#maximize snow removal\n",
    "@objective(m, Max, 1x[\"x11\"] + 2x[\"x12\"] + 1.2x[\"x21\"] + 3x[\"x22\"] + 2x[\"x31\"] + 3x[\"x32\"])\n",
    "#Solve the optimization problem\n",
    "solve(m)\n",
    "#Determine hours by each machine\n",
    "println(\"variable values: \", getvalue(x))\n",
    "#Determine max snow removal\n",
    "println(\"Objetive value: \", getobjectivevalue(m))\n"
   ]
  },
  {
   "cell_type": "code",
   "execution_count": 5,
   "metadata": {
    "collapsed": false
   },
   "outputs": [
    {
     "name": "stdout",
     "output_type": "stream",
     "text": [
      "variable values: x: 1 dimensions:\n",
      "[x11] = 4.333333333333333\n",
      "[x12] = 5.333333333333334\n",
      "[x21] = 0.0\n",
      "[x22] = 8.0\n",
      "[x31] = 9.0\n",
      "[x32] = 0.0\n",
      "\n",
      "Objective value: 13.333333333333332\n"
     ]
    }
   ],
   "source": [
    "## This is Part D\n",
    "using GLPK, JuMP\n",
    "#using GLPKMathProgInterface\n",
    "#Define model \n",
    "m = Model()\n",
    "S = [\"x11\",\"x12\",\"x21\",\"x22\",\"x31\",\"x32\"]\n",
    "#Non-negativity\n",
    "@variable(m, x[S] >= 0)\n",
    "# new variable \"z\"\n",
    "@variable(m, z)\n",
    "#Only 24 hours for each machine - machine 1\n",
    "@constraint(m, 1x[\"x11\"] + 1x[\"x21\"] + 1x[\"x31\"] <= z)\n",
    "#Only 24 hours for each machine - machine 1\n",
    "@constraint(m, 1x[\"x12\"] + 1x[\"x22\"] + 1x[\"x32\"] <= z)\n",
    "#remove 15 inches of snow from road 1\n",
    "@constraint(m, 1x[\"x11\"] + 2x[\"x12\"] == 15)\n",
    "#remove 24 inches of snow from road 2\n",
    "@constraint(m, 1.2x[\"x21\"] + 3x[\"x22\"] == 24)\n",
    "#remove 18 inches of snow from road 3\n",
    "@constraint(m, 2x[\"x31\"] + 3x[\"x32\"] == 18)\n",
    "#maximize snow removal\n",
    "@objective(m, Min, z)\n",
    "#Solve the optimization problem\n",
    "solve(m)\n",
    "#Determine hours by each machine\n",
    "println(\"variable values: \", getvalue(x))\n",
    "#Determine max snow removal\n",
    "println(\"Objective value: \", getobjectivevalue(m))"
   ]
  },
  {
   "cell_type": "code",
   "execution_count": 9,
   "metadata": {
    "collapsed": false
   },
   "outputs": [
    {
     "name": "stdout",
     "output_type": "stream",
     "text": [
      "variable values: x: 1 dimensions:\n",
      "[x] = 1.5999999999999996\n",
      "[y] = 5.2\n",
      "\n",
      "Objective value: 18.8\n"
     ]
    }
   ],
   "source": [
    "# Problem 3 Parts A and B\n",
    "m = Model()\n",
    "S = [\"x\",\"y\"]\n",
    "#Non-negativity\n",
    "@variable(m, x[S] >= 0)\n",
    "#Constraint #1\n",
    "@constraint(m, 4x[\"x\"] + 6x[\"y\"] >= 30)\n",
    "#Constraint #2\n",
    "@constraint(m, 6x[\"x\"] + 2x[\"y\"] >= 20)\n",
    "#Constraint #3\n",
    "@constraint(m, 1x[\"x\"] + 2x[\"y\"] >= 12)\n",
    "#Objective function\n",
    "@objective(m, Min, 2x[\"x\"] + 3x[\"y\"])\n",
    "#Solve the optimization problem\n",
    "solve(m)\n",
    "#Determine hours by each machine\n",
    "println(\"variable values: \", getvalue(x))\n",
    "#Determine max snow removal\n",
    "println(\"Objective value: \", getobjectivevalue(m))"
   ]
  },
  {
   "cell_type": "code",
   "execution_count": 7,
   "metadata": {
    "collapsed": false
   },
   "outputs": [
    {
     "name": "stdout",
     "output_type": "stream",
     "text": [
      "variable values: x: 1 dimensions:\n",
      "[ x1] = 0.0\n",
      "[ x2] = 0.0\n",
      "[ x3] = 0.0\n",
      "[ x4] = 0.0\n",
      "[ x5] = 4.615384615384616\n",
      "[ x6] = 0.0\n",
      "[ x7] = 0.0\n",
      "[ x8] = 0.0\n",
      "[ x9] = 0.0\n",
      "[x10] = 0.0\n",
      "\n",
      "Objective value: 1449.2307692307693\n"
     ]
    }
   ],
   "source": [
    "# Problem 3 Part C\n",
    "#Pkg.add(\"DataFrames\")\n",
    "using DataFrames\n",
    "df = readtable(\"/home/john/MOOCs/Other/MITx: 15.053x Optimization Methods in Business Analytics/Week 2/fooddata.csv\",\n",
    "header = true,\n",
    "skipstart = 1)\n",
    "# Clean up the df a little bit\n",
    "df2 = df[1:10,:]\n",
    "#df2[:Food]\n",
    "# Specify the model\n",
    "m = Model()\n",
    "S = [\"x1\",\"x2\",\"x3\",\"x4\",\"x5\",\"x6\",\"x7\",\"x8\",\"x9\",\"x10\"]\n",
    "#Non-negativity\n",
    "@variable(m, x[S] >= 0)\n",
    "#Constraint #1: more than 50 fats\n",
    "@constraint(m, 1x[\"x1\"] + 17x[\"x2\"] + 4x[\"x3\"] + 18x[\"x4\"] + 19x[\"x5\"] + 19x[\"x6\"] + 3x[\"x7\"] + 17x[\"x8\"] +\n",
    "13x[\"x9\"] + 14x[\"x10\"] >= 50)\n",
    "#Constraint #2: more than 300 carbs\n",
    "@constraint(m, 36x[\"x1\"] + 40x[\"x2\"] + 22x[\"x3\"] + 83x[\"x4\"] + 76x[\"x5\"] + 45x[\"x6\"] + 93x[\"x7\"] + 77x[\"x8\"] +\n",
    "54x[\"x9\"] + 22x[\"x10\"] >= 300)\n",
    "#Constraint #3: more than 60 protein\n",
    "@constraint(m, 2x[\"x1\"] + 7x[\"x2\"] + 4x[\"x3\"] + 5x[\"x4\"] + 13x[\"x5\"] + 1x[\"x6\"] + #0x[\"x7\"] + 0x[\"x8\"] +\n",
    "#0x[\"x9\"] + \n",
    "2x[\"x10\"] >= 60)\n",
    "#Constraint #4: less than 20 saturated fat\n",
    "@constraint(m, 5x[\"x1\"] + 4x[\"x2\"] + 5x[\"x3\"] + 2x[\"x4\"] + 1x[\"x5\"] + 5x[\"x6\"] + 1x[\"x7\"] + 3x[\"x8\"] +\n",
    "5x[\"x9\"] #+ 0x[\"x10\"] \n",
    "<= 20)\n",
    "#Objective function\n",
    "@objective(m, Min, 448x[\"x1\"] + 305x[\"x2\"] + 337x[\"x3\"] + 455x[\"x4\"] + 314x[\"x5\"] + 437x[\"x6\"] + 438x[\"x7\"] + \n",
    "413x[\"x8\"] + 481x[\"x9\"] + 150x[\"x10\"])\n",
    "#Solve the optimization problem\n",
    "solve(m)\n",
    "#Determine hours by each machine\n",
    "println(\"variable values: \", getvalue(x))\n",
    "#Determine max snow removal\n",
    "println(\"Objective value: \", getobjectivevalue(m))\n",
    "# This is the right answer, see if I can get it through using the DF values instead of manuel entry. "
   ]
  },
  {
   "cell_type": "code",
   "execution_count": 6,
   "metadata": {
    "collapsed": false
   },
   "outputs": [
    {
     "ename": "LoadError",
     "evalue": "LoadError: MethodError: `dot` has no method matching dot(::ASCIIString, ::Int64)\nClosest candidates are:\n  dot(!Matched::Number, ::Number)\n  dot(!Matched::Union{JuMP.AbstractJuMPScalar,JuMP.GenericNormExpr{2,Float64,JuMP.Variable},JuMP.GenericNorm{P,Float64,JuMP.Variable},JuMP.NonlinearExpression}, ::Number)\nwhile loading In[6], in expression starting on line 362",
     "output_type": "error",
     "traceback": [
      "LoadError: MethodError: `dot` has no method matching dot(::ASCIIString, ::Int64)\nClosest candidates are:\n  dot(!Matched::Number, ::Number)\n  dot(!Matched::Union{JuMP.AbstractJuMPScalar,JuMP.GenericNormExpr{2,Float64,JuMP.Variable},JuMP.GenericNorm{P,Float64,JuMP.Variable},JuMP.NonlinearExpression}, ::Number)\nwhile loading In[6], in expression starting on line 362",
      "",
      " in vecdot at ./linalg/generic.jl:253"
     ]
    }
   ],
   "source": [
    "# I may have to create new variables, rather than do this in a constraint.\n",
    "# This cell does not work\n",
    "# using DataFrames, JuMP\n",
    "# df = readtable(\"/home/john/MOOCs/Other/MITx: 15.053x Optimization Methods in Business Analytics/Week 2/fooddata.csv\",\n",
    "# header = true,\n",
    "# skipstart = 1)\n",
    "# df2 = df[1:10,:]\n",
    "# #df2[:Food]\n",
    "# # Specify the model\n",
    "# m = Model()\n",
    "# S = [\"x1\",\"x2\",\"x3\",\"x4\",\"x5\",\"x6\",\"x7\",\"x8\",\"x9\",\"x10\"]\n",
    "# #S = ['x1','x2','x3','x4','x5','x6','x7','x8','x9','x10']\n",
    "# #Non-negativity\n",
    "# @variable(m, x[S] >= 0)\n",
    "# #Constraint #1: more than 50 fats\n",
    "# @constraint(m, vecdot(S,df2[:Fat]) >= 50)\n",
    "# #Constraint #2: more than 300 carbs\n",
    "# @constraint(m, vecdot(S,df2[:Carbohydrate]) >= 300)\n",
    "# #Constraint #3: more than 60 protein\n",
    "# @constraint(m, vecdot(S,df2[:Protein]) >= 60)\n",
    "# #Constraint #4: less than 20 saturated fat\n",
    "# @constraint(m, vecdot(S,df2[:Saturated_Fat]) <= 20)\n",
    "# #Objective function\n",
    "# @objective(m, Min, vecdot(S,df2[:Calories]))\n",
    "# #Solve the optimization problem\n",
    "# solve(m)\n",
    "# #Determine hours by each machine\n",
    "# println(\"variable values: \", getvalue(x))\n",
    "# #Determine max snow removal\n",
    "# println(\"Objective value: \", getobjectivevalue(m))"
   ]
  },
  {
   "cell_type": "code",
   "execution_count": 27,
   "metadata": {
    "collapsed": false
   },
   "outputs": [
    {
     "name": "stdout",
     "output_type": "stream",
     "text": [
      "variable values: [0.0,0.0,0.0,0.0,4.615384615384616,0.0,0.0,0.0,0.0,0.0]\n",
      "Objective value: 1449.2307692307693\n"
     ]
    }
   ],
   "source": [
    "m = Model()\n",
    "df = readtable(\"/home/john/MOOCs/Other/MITx: 15.053x Optimization Methods in Business Analytics/Week 2/fooddata.csv\",\n",
    "header = true,\n",
    "skipstart = 1)\n",
    "df2 = df[1:10,:]\n",
    "#S = [\"x1\",\"x2\",\"x3\",\"x4\",\"x5\",\"x6\",\"x7\",\"x8\",\"x9\",\"x10\"]\n",
    "#S = ['x1','x2','x3','x4','x5','x6','x7','x8','x9','x10']\n",
    "# Need Fat, Carbs, Protein, Saturated Fat and Calories\n",
    "fat = df2[:Fat]\n",
    "carbs = df2[:Carbohydrate]\n",
    "protein = df2[:Protein]\n",
    "sat_fat = df2[:Saturated_Fat]\n",
    "cals = df2[:Calories]\n",
    "#Non-negativity\n",
    "@variable(m, x[1:10] >= 0)\n",
    "#Constraint #1: more than 50 fats\n",
    "@constraint(m, sum{fat[i]*x[i], i in 1:10} >= 50)\n",
    "#Constraint #2: more than 300 carbs\n",
    "@constraint(m, sum{carbs[i]*x[i], i in 1:10} >= 300)\n",
    "#Constraint #3: more than 60 protein\n",
    "@constraint(m, sum{protein[i]*x[i],i in 1:10} >= 60) \n",
    "#Constraint #4: less than 20 saturated fat\n",
    "@constraint(m, sum{sat_fat[i]*x[i], i in 1:10} <= 20)\n",
    "#Objective function\n",
    "@objective(m, Min, sum{cals[i]*x[i], i in 1:10})\n",
    "#Solve the optimization problem\n",
    "solve(m)\n",
    "#Determine hours by each machine\n",
    "println(\"variable values: \", getvalue(x))\n",
    "#Determine max snow removal\n",
    "println(\"Objective value: \", getobjectivevalue(m))\n",
    "# This is the right answer, see if I can get it through using the DF values instead of manuel entry. \n",
    "\n",
    "#@constraint(m, sum{df2[:Calories]} > 500)"
   ]
  },
  {
   "cell_type": "code",
   "execution_count": 23,
   "metadata": {
    "collapsed": false
   },
   "outputs": [
    {
     "data": {
      "text/plain": [
       "6-element Array{Symbol,1}:\n",
       " :Food         \n",
       " :Calories     \n",
       " :Fat          \n",
       " :Saturated_Fat\n",
       " :Carbohydrate \n",
       " :Protein      "
      ]
     },
     "execution_count": 23,
     "metadata": {},
     "output_type": "execute_result"
    }
   ],
   "source": [
    "names(df2)"
   ]
  },
  {
   "cell_type": "code",
   "execution_count": null,
   "metadata": {
    "collapsed": true
   },
   "outputs": [],
   "source": []
  }
 ],
 "metadata": {
  "kernelspec": {
   "display_name": "Julia 0.4.5",
   "language": "julia",
   "name": "julia-0.4"
  },
  "language_info": {
   "file_extension": ".jl",
   "mimetype": "application/julia",
   "name": "julia",
   "version": "0.4.5"
  }
 },
 "nbformat": 4,
 "nbformat_minor": 1
}
