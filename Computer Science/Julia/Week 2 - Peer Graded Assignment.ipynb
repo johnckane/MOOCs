{
 "cells": [
  {
   "cell_type": "markdown",
   "metadata": {},
   "source": [
    "My function is the logistic function. "
   ]
  },
  {
   "cell_type": "code",
   "execution_count": 27,
   "metadata": {
    "collapsed": false
   },
   "outputs": [
    {
     "data": {
      "text/plain": [
       "f (generic function with 1 method)"
      ]
     },
     "execution_count": 27,
     "metadata": {},
     "output_type": "execute_result"
    }
   ],
   "source": [
    "f(x) = exp(x)/(1+exp(x))"
   ]
  },
  {
   "cell_type": "markdown",
   "metadata": {},
   "source": [
    "I like this function because it is bounded between 0 and 1. "
   ]
  },
  {
   "cell_type": "code",
   "execution_count": 28,
   "metadata": {
    "collapsed": false
   },
   "outputs": [
    {
     "name": "stdout",
     "output_type": "stream",
     "text": [
      "(-10,4.539786870243439e-5)\n",
      "(-9,0.00012339457598623172)\n",
      "(-8,0.00033535013046647816)\n",
      "(-7,0.0009110511944006454)\n",
      "(-6,0.0024726231566347748)\n",
      "(-5,0.006692850924284856)\n",
      "(-4,0.017986209962091555)\n",
      "(-3,0.04742587317756679)\n",
      "(-2,0.11920292202211755)\n",
      "(-1,0.2689414213699951)\n",
      "(0,0.5)\n",
      "(1,0.7310585786300049)\n",
      "(2,0.8807970779778824)\n",
      "(3,0.9525741268224333)\n",
      "(4,0.9820137900379085)\n",
      "(5,0.9933071490757152)\n",
      "(6,0.9975273768433652)\n",
      "(7,0.9990889488055994)\n",
      "(8,0.9996646498695335)\n",
      "(9,0.9998766054240138)\n",
      "(10,0.9999546021312976)\n"
     ]
    }
   ],
   "source": [
    "for x in -10:10\n",
    "    println(\"(\",x,\",\",f(x),\")\")\n",
    "end"
   ]
  },
  {
   "cell_type": "code",
   "execution_count": 29,
   "metadata": {
    "collapsed": false
   },
   "outputs": [],
   "source": [
    "xs = Array{Int64}(21)\n",
    "ys = Array{Float64}(21)\n",
    "for i in 1:21\n",
    "    xs[i] = i-11\n",
    "    ys[i] = f(xs[i])\n",
    "end\n"
   ]
  },
  {
   "cell_type": "code",
   "execution_count": 35,
   "metadata": {
    "collapsed": false
   },
   "outputs": [
    {
     "ename": "LoadError",
     "evalue": "LoadError: type PyPlotBackend has no field show\nwhile loading In[35], in expression starting on line 3",
     "output_type": "error",
     "traceback": [
      "LoadError: type PyPlotBackend has no field show\nwhile loading In[35], in expression starting on line 3",
      ""
     ]
    }
   ],
   "source": [
    "using Plots\n",
    "p = pyplot(x=xs,y=ys)\n",
    "p.show()"
   ]
  }
 ],
 "metadata": {
  "kernelspec": {
   "display_name": "Julia 0.4.5",
   "language": "julia",
   "name": "julia-0.4"
  },
  "language_info": {
   "file_extension": ".jl",
   "mimetype": "application/julia",
   "name": "julia",
   "version": "0.4.5"
  }
 },
 "nbformat": 4,
 "nbformat_minor": 1
}
